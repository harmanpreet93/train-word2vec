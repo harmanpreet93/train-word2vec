{
 "cells": [
  {
   "cell_type": "markdown",
   "metadata": {},
   "source": [
    "## Word2Vec Tutorial"
   ]
  },
  {
   "cell_type": "code",
   "execution_count": 113,
   "metadata": {},
   "outputs": [],
   "source": [
    "import pandas as pd\n",
    "import numpy as np\n",
    "import re\n",
    "\n",
    "from nltk.corpus import stopwords\n",
    "\n",
    "from gensim.models import Word2Vec\n",
    "from gensim.models import Phrases\n",
    "from gensim.models.phrases import Phraser\n",
    "\n",
    "import logging\n",
    "logging.basicConfig(format='%(asctime)s : %(levelname)s : %(message)s', level=logging.INFO)"
   ]
  },
  {
   "cell_type": "markdown",
   "metadata": {},
   "source": [
    "## Exploring the Data"
   ]
  },
  {
   "cell_type": "code",
   "execution_count": 2,
   "metadata": {
    "collapsed": true
   },
   "outputs": [],
   "source": [
    "data = pd.read_csv('data/corpus.csv')"
   ]
  },
  {
   "cell_type": "markdown",
   "metadata": {},
   "source": [
    "We are interested in Description column."
   ]
  },
  {
   "cell_type": "code",
   "execution_count": 3,
   "metadata": {},
   "outputs": [
    {
     "data": {
      "text/html": [
       "<div>\n",
       "<style>\n",
       "    .dataframe thead tr:only-child th {\n",
       "        text-align: right;\n",
       "    }\n",
       "\n",
       "    .dataframe thead th {\n",
       "        text-align: left;\n",
       "    }\n",
       "\n",
       "    .dataframe tbody tr th {\n",
       "        vertical-align: top;\n",
       "    }\n",
       "</style>\n",
       "<table border=\"1\" class=\"dataframe\">\n",
       "  <thead>\n",
       "    <tr style=\"text-align: right;\">\n",
       "      <th></th>\n",
       "      <th>User_ID</th>\n",
       "      <th>Description</th>\n",
       "      <th>Browser_Used</th>\n",
       "      <th>Device_Used</th>\n",
       "      <th>Is_Response</th>\n",
       "    </tr>\n",
       "  </thead>\n",
       "  <tbody>\n",
       "    <tr>\n",
       "      <th>0</th>\n",
       "      <td>id10326</td>\n",
       "      <td>The room was kind of clean but had a VERY stro...</td>\n",
       "      <td>Edge</td>\n",
       "      <td>Mobile</td>\n",
       "      <td>not happy</td>\n",
       "    </tr>\n",
       "    <tr>\n",
       "      <th>1</th>\n",
       "      <td>id10327</td>\n",
       "      <td>I stayed at the Crown Plaza April -- - April -...</td>\n",
       "      <td>Internet Explorer</td>\n",
       "      <td>Mobile</td>\n",
       "      <td>not happy</td>\n",
       "    </tr>\n",
       "    <tr>\n",
       "      <th>2</th>\n",
       "      <td>id10328</td>\n",
       "      <td>I booked this hotel through Hotwire at the low...</td>\n",
       "      <td>Mozilla</td>\n",
       "      <td>Tablet</td>\n",
       "      <td>not happy</td>\n",
       "    </tr>\n",
       "    <tr>\n",
       "      <th>3</th>\n",
       "      <td>id10329</td>\n",
       "      <td>Stayed here with husband and sons on the way t...</td>\n",
       "      <td>InternetExplorer</td>\n",
       "      <td>Desktop</td>\n",
       "      <td>happy</td>\n",
       "    </tr>\n",
       "    <tr>\n",
       "      <th>4</th>\n",
       "      <td>id10330</td>\n",
       "      <td>My girlfriends and I stayed here to celebrate ...</td>\n",
       "      <td>Edge</td>\n",
       "      <td>Tablet</td>\n",
       "      <td>not happy</td>\n",
       "    </tr>\n",
       "  </tbody>\n",
       "</table>\n",
       "</div>"
      ],
      "text/plain": [
       "   User_ID                                        Description  \\\n",
       "0  id10326  The room was kind of clean but had a VERY stro...   \n",
       "1  id10327  I stayed at the Crown Plaza April -- - April -...   \n",
       "2  id10328  I booked this hotel through Hotwire at the low...   \n",
       "3  id10329  Stayed here with husband and sons on the way t...   \n",
       "4  id10330  My girlfriends and I stayed here to celebrate ...   \n",
       "\n",
       "        Browser_Used Device_Used Is_Response  \n",
       "0               Edge      Mobile   not happy  \n",
       "1  Internet Explorer      Mobile   not happy  \n",
       "2            Mozilla      Tablet   not happy  \n",
       "3   InternetExplorer     Desktop       happy  \n",
       "4               Edge      Tablet   not happy  "
      ]
     },
     "execution_count": 3,
     "metadata": {},
     "output_type": "execute_result"
    }
   ],
   "source": [
    "data.head()"
   ]
  },
  {
   "cell_type": "code",
   "execution_count": 4,
   "metadata": {},
   "outputs": [
    {
     "data": {
      "text/html": [
       "<div>\n",
       "<style>\n",
       "    .dataframe thead tr:only-child th {\n",
       "        text-align: right;\n",
       "    }\n",
       "\n",
       "    .dataframe thead th {\n",
       "        text-align: left;\n",
       "    }\n",
       "\n",
       "    .dataframe tbody tr th {\n",
       "        vertical-align: top;\n",
       "    }\n",
       "</style>\n",
       "<table border=\"1\" class=\"dataframe\">\n",
       "  <thead>\n",
       "    <tr style=\"text-align: right;\">\n",
       "      <th></th>\n",
       "      <th>User_ID</th>\n",
       "      <th>Description</th>\n",
       "      <th>Browser_Used</th>\n",
       "      <th>Device_Used</th>\n",
       "      <th>Is_Response</th>\n",
       "    </tr>\n",
       "  </thead>\n",
       "  <tbody>\n",
       "    <tr>\n",
       "      <th>count</th>\n",
       "      <td>38932</td>\n",
       "      <td>38932</td>\n",
       "      <td>38932</td>\n",
       "      <td>38932</td>\n",
       "      <td>38932</td>\n",
       "    </tr>\n",
       "    <tr>\n",
       "      <th>unique</th>\n",
       "      <td>38932</td>\n",
       "      <td>38932</td>\n",
       "      <td>11</td>\n",
       "      <td>3</td>\n",
       "      <td>2</td>\n",
       "    </tr>\n",
       "    <tr>\n",
       "      <th>top</th>\n",
       "      <td>id47031</td>\n",
       "      <td>Recently stayed at the Conrad for - nights dur...</td>\n",
       "      <td>Firefox</td>\n",
       "      <td>Desktop</td>\n",
       "      <td>happy</td>\n",
       "    </tr>\n",
       "    <tr>\n",
       "      <th>freq</th>\n",
       "      <td>1</td>\n",
       "      <td>1</td>\n",
       "      <td>7367</td>\n",
       "      <td>15026</td>\n",
       "      <td>26521</td>\n",
       "    </tr>\n",
       "  </tbody>\n",
       "</table>\n",
       "</div>"
      ],
      "text/plain": [
       "        User_ID                                        Description  \\\n",
       "count     38932                                              38932   \n",
       "unique    38932                                              38932   \n",
       "top     id47031  Recently stayed at the Conrad for - nights dur...   \n",
       "freq          1                                                  1   \n",
       "\n",
       "       Browser_Used Device_Used Is_Response  \n",
       "count         38932       38932       38932  \n",
       "unique           11           3           2  \n",
       "top         Firefox     Desktop       happy  \n",
       "freq           7367       15026       26521  "
      ]
     },
     "execution_count": 4,
     "metadata": {},
     "output_type": "execute_result"
    }
   ],
   "source": [
    "data.describe()"
   ]
  },
  {
   "cell_type": "code",
   "execution_count": 5,
   "metadata": {},
   "outputs": [
    {
     "name": "stdout",
     "output_type": "stream",
     "text": [
      "<class 'pandas.core.frame.DataFrame'>\n",
      "RangeIndex: 38932 entries, 0 to 38931\n",
      "Data columns (total 5 columns):\n",
      "User_ID         38932 non-null object\n",
      "Description     38932 non-null object\n",
      "Browser_Used    38932 non-null object\n",
      "Device_Used     38932 non-null object\n",
      "Is_Response     38932 non-null object\n",
      "dtypes: object(5)\n",
      "memory usage: 1.5+ MB\n"
     ]
    }
   ],
   "source": [
    "data.info()"
   ]
  },
  {
   "cell_type": "code",
   "execution_count": 7,
   "metadata": {
    "collapsed": true
   },
   "outputs": [],
   "source": [
    "# get stop words from nltk\n",
    "stopWords = stopwords.words('english')\n",
    "\n",
    "# pre processing data\n",
    "def cleanData(sentence):\n",
    "    processedList = \"\"\n",
    "    \n",
    "    # convert to lowercase, ignore all special characters - keep only alpha numericals and spaces (not removing full-stop here)\n",
    "    sentence = re.sub(r'[^A-Za-z0-9\\s.]',r'',str(sentence).lower())\n",
    "    sentence = re.sub(r'\\n',r' ',sentence)\n",
    "    \n",
    "    # remove stop words\n",
    "    sentence = \" \".join([word for word in sentence.split() if word not in stopWords])\n",
    "    \n",
    "    return sentence"
   ]
  },
  {
   "cell_type": "markdown",
   "metadata": {},
   "source": [
    "Sample processed review:"
   ]
  },
  {
   "cell_type": "code",
   "execution_count": 9,
   "metadata": {},
   "outputs": [
    {
     "data": {
      "text/plain": [
       "'booked hotel hotwire lowest price could find. got front desk manager gave us smoking room. argued little baby would booked room known smoking. manager would hear anything told hotwire books cheapest rooms available. get go unhappy. great deal persuasion discussion got nonsmoking room. thereafter room minimal amenities. besides great location near dupont circle much say overpriced hotel. room small ok condition. bathroom small tub. bathroom amenities also minimal. fridge microwave rent fridge staff keep baby things. parking costs per day best drive here. also breakfast included. lobby small feels old. thing available coffee lobby decent. poor service minimal amenities small rooms small bathrooms view great location. distance metro either mcpherson station dupont station. try look better available.'"
      ]
     },
     "execution_count": 9,
     "metadata": {},
     "output_type": "execute_result"
    }
   ],
   "source": [
    "cleanData(data['Description'][2])"
   ]
  },
  {
   "cell_type": "markdown",
   "metadata": {},
   "source": [
    "Process the whole dataset"
   ]
  },
  {
   "cell_type": "code",
   "execution_count": 10,
   "metadata": {
    "collapsed": true
   },
   "outputs": [],
   "source": [
    "# clean data \n",
    "data['Description'] = data['Description'].map(lambda x: cleanData(x))"
   ]
  },
  {
   "cell_type": "code",
   "execution_count": 12,
   "metadata": {},
   "outputs": [
    {
     "data": {
      "text/html": [
       "<div>\n",
       "<style>\n",
       "    .dataframe thead tr:only-child th {\n",
       "        text-align: right;\n",
       "    }\n",
       "\n",
       "    .dataframe thead th {\n",
       "        text-align: left;\n",
       "    }\n",
       "\n",
       "    .dataframe tbody tr th {\n",
       "        vertical-align: top;\n",
       "    }\n",
       "</style>\n",
       "<table border=\"1\" class=\"dataframe\">\n",
       "  <thead>\n",
       "    <tr style=\"text-align: right;\">\n",
       "      <th></th>\n",
       "      <th>User_ID</th>\n",
       "      <th>Description</th>\n",
       "      <th>Browser_Used</th>\n",
       "      <th>Device_Used</th>\n",
       "      <th>Is_Response</th>\n",
       "    </tr>\n",
       "  </thead>\n",
       "  <tbody>\n",
       "    <tr>\n",
       "      <th>0</th>\n",
       "      <td>id10326</td>\n",
       "      <td>room kind clean strong smell dogs. generally a...</td>\n",
       "      <td>Edge</td>\n",
       "      <td>Mobile</td>\n",
       "      <td>not happy</td>\n",
       "    </tr>\n",
       "    <tr>\n",
       "      <th>1</th>\n",
       "      <td>id10327</td>\n",
       "      <td>stayed crown plaza april april . staff friendl...</td>\n",
       "      <td>Internet Explorer</td>\n",
       "      <td>Mobile</td>\n",
       "      <td>not happy</td>\n",
       "    </tr>\n",
       "    <tr>\n",
       "      <th>2</th>\n",
       "      <td>id10328</td>\n",
       "      <td>booked hotel hotwire lowest price could find. ...</td>\n",
       "      <td>Mozilla</td>\n",
       "      <td>Tablet</td>\n",
       "      <td>not happy</td>\n",
       "    </tr>\n",
       "    <tr>\n",
       "      <th>3</th>\n",
       "      <td>id10329</td>\n",
       "      <td>stayed husband sons way alaska cruise. loved h...</td>\n",
       "      <td>InternetExplorer</td>\n",
       "      <td>Desktop</td>\n",
       "      <td>happy</td>\n",
       "    </tr>\n",
       "    <tr>\n",
       "      <th>4</th>\n",
       "      <td>id10330</td>\n",
       "      <td>girlfriends stayed celebrate th birthdays. pla...</td>\n",
       "      <td>Edge</td>\n",
       "      <td>Tablet</td>\n",
       "      <td>not happy</td>\n",
       "    </tr>\n",
       "  </tbody>\n",
       "</table>\n",
       "</div>"
      ],
      "text/plain": [
       "   User_ID                                        Description  \\\n",
       "0  id10326  room kind clean strong smell dogs. generally a...   \n",
       "1  id10327  stayed crown plaza april april . staff friendl...   \n",
       "2  id10328  booked hotel hotwire lowest price could find. ...   \n",
       "3  id10329  stayed husband sons way alaska cruise. loved h...   \n",
       "4  id10330  girlfriends stayed celebrate th birthdays. pla...   \n",
       "\n",
       "        Browser_Used Device_Used Is_Response  \n",
       "0               Edge      Mobile   not happy  \n",
       "1  Internet Explorer      Mobile   not happy  \n",
       "2            Mozilla      Tablet   not happy  \n",
       "3   InternetExplorer     Desktop       happy  \n",
       "4               Edge      Tablet   not happy  "
      ]
     },
     "execution_count": 12,
     "metadata": {},
     "output_type": "execute_result"
    }
   ],
   "source": [
    "data.head()"
   ]
  },
  {
   "cell_type": "markdown",
   "metadata": {},
   "source": [
    "# Word2Vec"
   ]
  },
  {
   "cell_type": "markdown",
   "metadata": {},
   "source": [
    "Going to use [gensim](https://radimrehurek.com/gensim/models/word2vec.html) library to train word2vec model. Gensim accepts input in form of list of lists, where each internal list consists of review sentence.  \n",
    "  \n",
    "Each review in our data may have more than one sentence. We'll split each sentence and create a list of sentences to pass it to gensim."
   ]
  },
  {
   "cell_type": "code",
   "execution_count": 14,
   "metadata": {},
   "outputs": [],
   "source": [
    "tmp_corpus = data['Description'].map(lambda x: x.split('.'))"
   ]
  },
  {
   "cell_type": "code",
   "execution_count": 15,
   "metadata": {
    "collapsed": true
   },
   "outputs": [],
   "source": [
    "# corpus [[w1,w2,w3..],[..]]\n",
    "corpus = []\n",
    "for i in range(len(tmp_corpus)):\n",
    "    for line in tmp_corpus[i]:\n",
    "        words = [x for x in line.split()]\n",
    "        corpus.append(words)"
   ]
  },
  {
   "cell_type": "markdown",
   "metadata": {},
   "source": [
    "Our data contains **444k** sentences and **3111k** words."
   ]
  },
  {
   "cell_type": "code",
   "execution_count": 16,
   "metadata": {},
   "outputs": [
    {
     "name": "stdout",
     "output_type": "stream",
     "text": [
      "Num of sentences - 444271\n",
      "Num of words - 3111121\n"
     ]
    }
   ],
   "source": [
    "num_of_sentences = len(corpus)\n",
    "num_of_words = 0\n",
    "for line in corpus:\n",
    "    num_of_words += len(line)\n",
    "\n",
    "print('Num of sentences - %s'%(num_of_sentences))\n",
    "print('Num of words - %s'%(num_of_words))"
   ]
  },
  {
   "cell_type": "markdown",
   "metadata": {},
   "source": [
    "Our data contains **444k** sentences and **3111k** words."
   ]
  },
  {
   "cell_type": "markdown",
   "metadata": {},
   "source": [
    "We'll do a little more preprocessing here by extracting phrases from the corpus. For example, new york -> new_york, etc. We'll limit to only bigrams. "
   ]
  },
  {
   "cell_type": "code",
   "execution_count": 46,
   "metadata": {
    "scrolled": true
   },
   "outputs": [
    {
     "name": "stderr",
     "output_type": "stream",
     "text": [
      "2017-10-21 09:25:44,635 : INFO : collecting all words and their counts\n",
      "2017-10-21 09:25:44,651 : INFO : PROGRESS: at sentence #0, processed 0 words and 0 word types\n",
      "2017-10-21 09:25:44,815 : INFO : PROGRESS: at sentence #10000, processed 62189 words and 55905 word types\n",
      "2017-10-21 09:25:44,946 : INFO : PROGRESS: at sentence #20000, processed 123930 words and 98827 word types\n",
      "2017-10-21 09:25:45,080 : INFO : PROGRESS: at sentence #30000, processed 186473 words and 137942 word types\n",
      "2017-10-21 09:25:45,197 : INFO : PROGRESS: at sentence #40000, processed 247478 words and 173306 word types\n",
      "2017-10-21 09:25:45,347 : INFO : PROGRESS: at sentence #50000, processed 308086 words and 206238 word types\n",
      "2017-10-21 09:25:45,481 : INFO : PROGRESS: at sentence #60000, processed 369423 words and 238626 word types\n",
      "2017-10-21 09:25:45,629 : INFO : PROGRESS: at sentence #70000, processed 431308 words and 270170 word types\n",
      "2017-10-21 09:25:45,759 : INFO : PROGRESS: at sentence #80000, processed 494375 words and 301134 word types\n",
      "2017-10-21 09:25:45,880 : INFO : PROGRESS: at sentence #90000, processed 554875 words and 329645 word types\n",
      "2017-10-21 09:25:46,045 : INFO : PROGRESS: at sentence #100000, processed 615235 words and 357247 word types\n",
      "2017-10-21 09:25:46,178 : INFO : PROGRESS: at sentence #110000, processed 677112 words and 384971 word types\n",
      "2017-10-21 09:25:46,312 : INFO : PROGRESS: at sentence #120000, processed 738687 words and 411336 word types\n",
      "2017-10-21 09:25:46,430 : INFO : PROGRESS: at sentence #130000, processed 799973 words and 437236 word types\n",
      "2017-10-21 09:25:46,563 : INFO : PROGRESS: at sentence #140000, processed 860832 words and 463070 word types\n",
      "2017-10-21 09:25:46,696 : INFO : PROGRESS: at sentence #150000, processed 922347 words and 487966 word types\n",
      "2017-10-21 09:25:46,829 : INFO : PROGRESS: at sentence #160000, processed 983392 words and 512366 word types\n",
      "2017-10-21 09:25:46,964 : INFO : PROGRESS: at sentence #170000, processed 1044358 words and 536565 word types\n",
      "2017-10-21 09:25:47,079 : INFO : PROGRESS: at sentence #180000, processed 1107225 words and 561564 word types\n",
      "2017-10-21 09:25:47,213 : INFO : PROGRESS: at sentence #190000, processed 1169620 words and 585559 word types\n",
      "2017-10-21 09:25:47,350 : INFO : PROGRESS: at sentence #200000, processed 1228688 words and 607301 word types\n",
      "2017-10-21 09:25:47,501 : INFO : PROGRESS: at sentence #210000, processed 1291380 words and 630496 word types\n",
      "2017-10-21 09:25:47,631 : INFO : PROGRESS: at sentence #220000, processed 1351667 words and 652697 word types\n",
      "2017-10-21 09:25:47,776 : INFO : PROGRESS: at sentence #230000, processed 1413381 words and 674667 word types\n",
      "2017-10-21 09:25:47,894 : INFO : PROGRESS: at sentence #240000, processed 1474164 words and 696182 word types\n",
      "2017-10-21 09:25:48,094 : INFO : PROGRESS: at sentence #250000, processed 1536880 words and 718355 word types\n",
      "2017-10-21 09:25:48,231 : INFO : PROGRESS: at sentence #260000, processed 1600646 words and 741600 word types\n",
      "2017-10-21 09:25:48,410 : INFO : PROGRESS: at sentence #270000, processed 1662865 words and 763035 word types\n",
      "2017-10-21 09:25:48,583 : INFO : PROGRESS: at sentence #280000, processed 1722931 words and 783818 word types\n",
      "2017-10-21 09:25:48,704 : INFO : PROGRESS: at sentence #290000, processed 1783435 words and 804316 word types\n",
      "2017-10-21 09:25:48,813 : INFO : PROGRESS: at sentence #300000, processed 1842692 words and 824124 word types\n",
      "2017-10-21 09:25:48,945 : INFO : PROGRESS: at sentence #310000, processed 1903066 words and 844477 word types\n",
      "2017-10-21 09:25:49,078 : INFO : PROGRESS: at sentence #320000, processed 1962466 words and 864110 word types\n",
      "2017-10-21 09:25:49,227 : INFO : PROGRESS: at sentence #330000, processed 2023646 words and 884143 word types\n",
      "2017-10-21 09:25:49,346 : INFO : PROGRESS: at sentence #340000, processed 2084280 words and 904075 word types\n",
      "2017-10-21 09:25:49,481 : INFO : PROGRESS: at sentence #350000, processed 2147587 words and 924355 word types\n",
      "2017-10-21 09:25:49,612 : INFO : PROGRESS: at sentence #360000, processed 2210299 words and 944141 word types\n",
      "2017-10-21 09:25:49,747 : INFO : PROGRESS: at sentence #370000, processed 2271232 words and 963486 word types\n",
      "2017-10-21 09:25:49,862 : INFO : PROGRESS: at sentence #380000, processed 2331759 words and 981972 word types\n",
      "2017-10-21 09:25:49,997 : INFO : PROGRESS: at sentence #390000, processed 2393732 words and 1001172 word types\n",
      "2017-10-21 09:25:50,125 : INFO : PROGRESS: at sentence #400000, processed 2456243 words and 1020788 word types\n",
      "2017-10-21 09:25:50,245 : INFO : PROGRESS: at sentence #410000, processed 2518105 words and 1039786 word types\n",
      "2017-10-21 09:25:50,378 : INFO : PROGRESS: at sentence #420000, processed 2580987 words and 1059235 word types\n",
      "2017-10-21 09:25:50,529 : INFO : PROGRESS: at sentence #430000, processed 2642068 words and 1077848 word types\n",
      "2017-10-21 09:25:50,664 : INFO : PROGRESS: at sentence #440000, processed 2701953 words and 1095525 word types\n",
      "2017-10-21 09:25:50,729 : INFO : collected 1103927 word types from a corpus of 2728434 words (unigram + bigrams) and 444271 sentences\n",
      "2017-10-21 09:25:50,734 : INFO : using 1103927 counts as vocab in Phrases<0 vocab, min_count=25, threshold=50, max_vocab_size=40000000>\n",
      "2017-10-21 09:25:50,827 : INFO : source_vocab length 1103927\n",
      "2017-10-21 09:25:59,837 : INFO : Phraser built with 761 761 phrasegrams\n"
     ]
    }
   ],
   "source": [
    "phrases = Phrases(sentences=corpus,min_count=25,threshold=50)\n",
    "bigram = Phraser(phrases)"
   ]
  },
  {
   "cell_type": "code",
   "execution_count": 49,
   "metadata": {},
   "outputs": [],
   "source": [
    "for index,sentence in enumerate(corpus):\n",
    "    corpus[index] = bigram[sentence]"
   ]
  },
  {
   "cell_type": "code",
   "execution_count": 52,
   "metadata": {
    "collapsed": true
   },
   "outputs": [],
   "source": [
    "# shuffle corpus\n",
    "def shuffle_corpus(sentences):\n",
    "    shuffled = list(sentences)\n",
    "    random.shuffle(shuffled)\n",
    "    return shuffled"
   ]
  },
  {
   "cell_type": "code",
   "execution_count": 54,
   "metadata": {
    "scrolled": true
   },
   "outputs": [
    {
     "name": "stderr",
     "output_type": "stream",
     "text": [
      "2017-10-21 09:55:00,674 : INFO : collecting all words and their counts\n",
      "2017-10-21 09:55:00,682 : INFO : PROGRESS: at sentence #0, processed 0 words, keeping 0 word types\n",
      "2017-10-21 09:55:00,707 : INFO : PROGRESS: at sentence #10000, processed 68251 words, keeping 8812 word types\n",
      "2017-10-21 09:55:00,734 : INFO : PROGRESS: at sentence #20000, processed 136136 words, keeping 12451 word types\n",
      "2017-10-21 09:55:00,769 : INFO : PROGRESS: at sentence #30000, processed 204641 words, keeping 15230 word types\n",
      "2017-10-21 09:55:00,802 : INFO : PROGRESS: at sentence #40000, processed 271576 words, keeping 17587 word types\n",
      "2017-10-21 09:55:00,834 : INFO : PROGRESS: at sentence #50000, processed 338157 words, keeping 19539 word types\n",
      "2017-10-21 09:55:00,872 : INFO : PROGRESS: at sentence #60000, processed 405603 words, keeping 21363 word types\n",
      "2017-10-21 09:55:00,907 : INFO : PROGRESS: at sentence #70000, processed 473392 words, keeping 23191 word types\n",
      "2017-10-21 09:55:00,944 : INFO : PROGRESS: at sentence #80000, processed 542497 words, keeping 24845 word types\n",
      "2017-10-21 09:55:00,979 : INFO : PROGRESS: at sentence #90000, processed 608985 words, keeping 26270 word types\n",
      "2017-10-21 09:55:01,014 : INFO : PROGRESS: at sentence #100000, processed 675304 words, keeping 27626 word types\n",
      "2017-10-21 09:55:01,049 : INFO : PROGRESS: at sentence #110000, processed 743073 words, keeping 29052 word types\n",
      "2017-10-21 09:55:01,089 : INFO : PROGRESS: at sentence #120000, processed 810694 words, keeping 30231 word types\n",
      "2017-10-21 09:55:01,124 : INFO : PROGRESS: at sentence #130000, processed 877962 words, keeping 31448 word types\n",
      "2017-10-21 09:55:01,159 : INFO : PROGRESS: at sentence #140000, processed 945001 words, keeping 32759 word types\n",
      "2017-10-21 09:55:01,192 : INFO : PROGRESS: at sentence #150000, processed 1012582 words, keeping 33903 word types\n",
      "2017-10-21 09:55:01,227 : INFO : PROGRESS: at sentence #160000, processed 1079600 words, keeping 35051 word types\n",
      "2017-10-21 09:55:01,264 : INFO : PROGRESS: at sentence #170000, processed 1146528 words, keeping 36143 word types\n",
      "2017-10-21 09:55:01,297 : INFO : PROGRESS: at sentence #180000, processed 1215466 words, keeping 37326 word types\n",
      "2017-10-21 09:55:01,332 : INFO : PROGRESS: at sentence #190000, processed 1283952 words, keeping 38431 word types\n",
      "2017-10-21 09:55:01,362 : INFO : PROGRESS: at sentence #200000, processed 1349036 words, keeping 39337 word types\n",
      "2017-10-21 09:55:01,397 : INFO : PROGRESS: at sentence #210000, processed 1417671 words, keeping 40366 word types\n",
      "2017-10-21 09:55:01,437 : INFO : PROGRESS: at sentence #220000, processed 1483959 words, keeping 41345 word types\n",
      "2017-10-21 09:55:01,467 : INFO : PROGRESS: at sentence #230000, processed 1551640 words, keeping 42329 word types\n",
      "2017-10-21 09:55:01,497 : INFO : PROGRESS: at sentence #240000, processed 1618320 words, keeping 43190 word types\n",
      "2017-10-21 09:55:01,537 : INFO : PROGRESS: at sentence #250000, processed 1687050 words, keeping 44114 word types\n",
      "2017-10-21 09:55:01,569 : INFO : PROGRESS: at sentence #260000, processed 1756920 words, keeping 45140 word types\n",
      "2017-10-21 09:55:01,602 : INFO : PROGRESS: at sentence #270000, processed 1825252 words, keeping 46057 word types\n",
      "2017-10-21 09:55:01,632 : INFO : PROGRESS: at sentence #280000, processed 1891376 words, keeping 46910 word types\n",
      "2017-10-21 09:55:01,672 : INFO : PROGRESS: at sentence #290000, processed 1957985 words, keeping 47775 word types\n",
      "2017-10-21 09:55:01,702 : INFO : PROGRESS: at sentence #300000, processed 2023346 words, keeping 48608 word types\n",
      "2017-10-21 09:55:01,729 : INFO : PROGRESS: at sentence #310000, processed 2089665 words, keeping 49507 word types\n",
      "2017-10-21 09:55:01,774 : INFO : PROGRESS: at sentence #320000, processed 2155219 words, keeping 50380 word types\n",
      "2017-10-21 09:55:01,804 : INFO : PROGRESS: at sentence #330000, processed 2222389 words, keeping 51197 word types\n",
      "2017-10-21 09:55:01,837 : INFO : PROGRESS: at sentence #340000, processed 2289095 words, keeping 52071 word types\n",
      "2017-10-21 09:55:01,869 : INFO : PROGRESS: at sentence #350000, processed 2358346 words, keeping 52889 word types\n",
      "2017-10-21 09:55:01,907 : INFO : PROGRESS: at sentence #360000, processed 2427133 words, keeping 53625 word types\n",
      "2017-10-21 09:55:01,939 : INFO : PROGRESS: at sentence #370000, processed 2494088 words, keeping 54468 word types\n",
      "2017-10-21 09:55:01,974 : INFO : PROGRESS: at sentence #380000, processed 2560576 words, keeping 55179 word types\n",
      "2017-10-21 09:55:02,007 : INFO : PROGRESS: at sentence #390000, processed 2628575 words, keeping 55922 word types\n",
      "2017-10-21 09:55:02,034 : INFO : PROGRESS: at sentence #400000, processed 2697075 words, keeping 56756 word types\n",
      "2017-10-21 09:55:02,069 : INFO : PROGRESS: at sentence #410000, processed 2764846 words, keeping 57527 word types\n",
      "2017-10-21 09:55:02,099 : INFO : PROGRESS: at sentence #420000, processed 2833711 words, keeping 58311 word types\n",
      "2017-10-21 09:55:02,134 : INFO : PROGRESS: at sentence #430000, processed 2900750 words, keeping 59023 word types\n",
      "2017-10-21 09:55:02,169 : INFO : PROGRESS: at sentence #440000, processed 2966718 words, keeping 59708 word types\n",
      "2017-10-21 09:55:02,189 : INFO : collected 60036 word types from a corpus of 2995867 raw words and 444271 sentences\n",
      "2017-10-21 09:55:02,194 : INFO : Loading a fresh vocabulary\n",
      "2017-10-21 09:55:02,322 : INFO : min_count=2 retains 28072 unique words (46% of original 60036, drops 31964)\n",
      "2017-10-21 09:55:02,324 : INFO : min_count=2 leaves 2963903 word corpus (98% of original 2995867, drops 31964)\n",
      "2017-10-21 09:55:02,429 : INFO : deleting the raw counts dictionary of 60036 items\n",
      "2017-10-21 09:55:02,442 : INFO : sample=0.01 downsamples 0 most-common words\n",
      "2017-10-21 09:55:02,449 : INFO : downsampling leaves estimated 2963903 word corpus (100.0% of prior 2963903)\n",
      "2017-10-21 09:55:02,454 : INFO : estimated required memory for 28072 words and 100 dimensions: 36493600 bytes\n",
      "2017-10-21 09:55:02,583 : INFO : resetting layer weights\n",
      "2017-10-21 09:55:03,100 : INFO : training model with 8 workers on 28072 vocabulary and 100 features, using sg=1 hs=0 sample=0.01 negative=5 window=2\n",
      "2017-10-21 09:55:03,105 : INFO : expecting 444271 sentences, matching count from corpus used for vocabulary survey\n",
      "2017-10-21 09:55:04,142 : INFO : PROGRESS: at 0.14% examples, 417406 words/s, in_qsize 16, out_qsize 1\n",
      "2017-10-21 09:55:05,155 : INFO : PROGRESS: at 0.28% examples, 414059 words/s, in_qsize 15, out_qsize 0\n",
      "2017-10-21 09:55:06,148 : INFO : PROGRESS: at 0.46% examples, 452870 words/s, in_qsize 14, out_qsize 1\n",
      "2017-10-21 09:55:07,154 : INFO : PROGRESS: at 0.63% examples, 462884 words/s, in_qsize 15, out_qsize 0\n",
      "2017-10-21 09:55:08,166 : INFO : PROGRESS: at 0.80% examples, 469687 words/s, in_qsize 15, out_qsize 0\n",
      "2017-10-21 09:55:09,236 : INFO : PROGRESS: at 0.97% examples, 468910 words/s, in_qsize 12, out_qsize 3\n",
      "2017-10-21 09:55:10,274 : INFO : PROGRESS: at 1.17% examples, 483345 words/s, in_qsize 15, out_qsize 0\n",
      "2017-10-21 09:55:11,293 : INFO : PROGRESS: at 1.36% examples, 492653 words/s, in_qsize 15, out_qsize 0\n",
      "2017-10-21 09:55:12,298 : INFO : PROGRESS: at 1.54% examples, 496373 words/s, in_qsize 15, out_qsize 0\n",
      "2017-10-21 09:55:13,310 : INFO : PROGRESS: at 1.71% examples, 498076 words/s, in_qsize 15, out_qsize 0\n",
      "2017-10-21 09:55:14,387 : INFO : PROGRESS: at 1.88% examples, 495203 words/s, in_qsize 15, out_qsize 0\n",
      "2017-10-21 09:55:15,412 : INFO : PROGRESS: at 2.05% examples, 495759 words/s, in_qsize 13, out_qsize 2\n",
      "2017-10-21 09:55:16,470 : INFO : PROGRESS: at 2.22% examples, 492935 words/s, in_qsize 15, out_qsize 0\n",
      "2017-10-21 09:55:17,516 : INFO : PROGRESS: at 2.37% examples, 489191 words/s, in_qsize 13, out_qsize 2\n",
      "2017-10-21 09:55:18,513 : INFO : PROGRESS: at 2.55% examples, 490795 words/s, in_qsize 15, out_qsize 0\n",
      "2017-10-21 09:55:19,512 : INFO : PROGRESS: at 2.70% examples, 488370 words/s, in_qsize 15, out_qsize 0\n",
      "2017-10-21 09:55:20,525 : INFO : PROGRESS: at 2.86% examples, 486442 words/s, in_qsize 15, out_qsize 0\n",
      "2017-10-21 09:55:21,526 : INFO : PROGRESS: at 3.04% examples, 489520 words/s, in_qsize 15, out_qsize 0\n"
     ]
    },
    {
     "name": "stderr",
     "output_type": "stream",
     "text": [
      "2017-10-21 09:55:22,534 : INFO : PROGRESS: at 3.21% examples, 490621 words/s, in_qsize 15, out_qsize 0\n",
      "2017-10-21 09:55:23,535 : INFO : PROGRESS: at 3.39% examples, 492057 words/s, in_qsize 15, out_qsize 0\n",
      "2017-10-21 09:55:24,543 : INFO : PROGRESS: at 3.56% examples, 492894 words/s, in_qsize 15, out_qsize 0\n",
      "2017-10-21 09:55:25,568 : INFO : PROGRESS: at 3.75% examples, 494738 words/s, in_qsize 16, out_qsize 1\n",
      "2017-10-21 09:55:26,595 : INFO : PROGRESS: at 3.94% examples, 497782 words/s, in_qsize 15, out_qsize 0\n",
      "2017-10-21 09:55:27,644 : INFO : PROGRESS: at 4.12% examples, 497649 words/s, in_qsize 14, out_qsize 1\n",
      "2017-10-21 09:55:28,641 : INFO : PROGRESS: at 4.29% examples, 498096 words/s, in_qsize 15, out_qsize 0\n",
      "2017-10-21 09:55:29,710 : INFO : PROGRESS: at 4.48% examples, 499539 words/s, in_qsize 14, out_qsize 1\n",
      "2017-10-21 09:55:30,709 : INFO : PROGRESS: at 4.66% examples, 501026 words/s, in_qsize 14, out_qsize 1\n",
      "2017-10-21 09:55:31,743 : INFO : PROGRESS: at 4.85% examples, 502055 words/s, in_qsize 15, out_qsize 0\n",
      "2017-10-21 09:55:32,787 : INFO : PROGRESS: at 5.02% examples, 501898 words/s, in_qsize 16, out_qsize 1\n",
      "2017-10-21 09:55:33,803 : INFO : PROGRESS: at 5.22% examples, 504125 words/s, in_qsize 15, out_qsize 0\n",
      "2017-10-21 09:55:34,825 : INFO : PROGRESS: at 5.39% examples, 504070 words/s, in_qsize 15, out_qsize 0\n",
      "2017-10-21 09:55:35,852 : INFO : PROGRESS: at 5.56% examples, 503660 words/s, in_qsize 15, out_qsize 0\n",
      "2017-10-21 09:55:36,842 : INFO : PROGRESS: at 5.74% examples, 504258 words/s, in_qsize 15, out_qsize 0\n",
      "2017-10-21 09:55:37,874 : INFO : PROGRESS: at 5.92% examples, 505247 words/s, in_qsize 15, out_qsize 0\n",
      "2017-10-21 09:55:38,894 : INFO : PROGRESS: at 6.09% examples, 504915 words/s, in_qsize 16, out_qsize 0\n",
      "2017-10-21 09:55:39,914 : INFO : PROGRESS: at 6.28% examples, 506354 words/s, in_qsize 12, out_qsize 3\n",
      "2017-10-21 09:55:40,926 : INFO : PROGRESS: at 6.46% examples, 506423 words/s, in_qsize 14, out_qsize 1\n",
      "2017-10-21 09:55:41,969 : INFO : PROGRESS: at 6.61% examples, 504452 words/s, in_qsize 15, out_qsize 0\n",
      "2017-10-21 09:55:42,989 : INFO : PROGRESS: at 6.80% examples, 505284 words/s, in_qsize 15, out_qsize 0\n",
      "2017-10-21 09:55:44,012 : INFO : PROGRESS: at 6.96% examples, 504231 words/s, in_qsize 15, out_qsize 0\n",
      "2017-10-21 09:55:45,022 : INFO : PROGRESS: at 7.14% examples, 504982 words/s, in_qsize 15, out_qsize 0\n",
      "2017-10-21 09:55:46,040 : INFO : PROGRESS: at 7.31% examples, 504840 words/s, in_qsize 15, out_qsize 0\n",
      "2017-10-21 09:55:47,084 : INFO : PROGRESS: at 7.49% examples, 504742 words/s, in_qsize 15, out_qsize 0\n",
      "2017-10-21 09:55:48,120 : INFO : PROGRESS: at 7.67% examples, 504981 words/s, in_qsize 16, out_qsize 0\n",
      "2017-10-21 09:55:49,133 : INFO : PROGRESS: at 7.85% examples, 505716 words/s, in_qsize 15, out_qsize 0\n",
      "2017-10-21 09:55:50,124 : INFO : PROGRESS: at 8.03% examples, 506068 words/s, in_qsize 15, out_qsize 0\n",
      "2017-10-21 09:55:51,187 : INFO : PROGRESS: at 8.20% examples, 505834 words/s, in_qsize 15, out_qsize 0\n",
      "2017-10-21 09:55:52,225 : INFO : PROGRESS: at 8.39% examples, 506303 words/s, in_qsize 15, out_qsize 0\n",
      "2017-10-21 09:55:53,232 : INFO : PROGRESS: at 8.57% examples, 506883 words/s, in_qsize 14, out_qsize 1\n",
      "2017-10-21 09:55:54,249 : INFO : PROGRESS: at 8.75% examples, 506937 words/s, in_qsize 15, out_qsize 0\n",
      "2017-10-21 09:55:55,257 : INFO : PROGRESS: at 8.92% examples, 507199 words/s, in_qsize 15, out_qsize 0\n",
      "2017-10-21 09:55:56,279 : INFO : PROGRESS: at 9.10% examples, 507495 words/s, in_qsize 15, out_qsize 0\n",
      "2017-10-21 09:55:57,297 : INFO : PROGRESS: at 9.28% examples, 507633 words/s, in_qsize 15, out_qsize 0\n",
      "2017-10-21 09:55:58,300 : INFO : PROGRESS: at 9.46% examples, 508241 words/s, in_qsize 15, out_qsize 0\n",
      "2017-10-21 09:55:59,305 : INFO : PROGRESS: at 9.60% examples, 506667 words/s, in_qsize 14, out_qsize 1\n",
      "2017-10-21 09:56:00,340 : INFO : PROGRESS: at 9.79% examples, 507021 words/s, in_qsize 15, out_qsize 0\n",
      "2017-10-21 09:56:01,355 : INFO : PROGRESS: at 9.97% examples, 507473 words/s, in_qsize 14, out_qsize 1\n",
      "2017-10-21 09:56:02,405 : INFO : PROGRESS: at 10.15% examples, 507247 words/s, in_qsize 15, out_qsize 0\n",
      "2017-10-21 09:56:03,396 : INFO : PROGRESS: at 10.31% examples, 507020 words/s, in_qsize 15, out_qsize 0\n",
      "2017-10-21 09:56:04,416 : INFO : PROGRESS: at 10.47% examples, 506415 words/s, in_qsize 14, out_qsize 2\n",
      "2017-10-21 09:56:05,446 : INFO : PROGRESS: at 10.65% examples, 506785 words/s, in_qsize 15, out_qsize 0\n",
      "2017-10-21 09:56:06,497 : INFO : PROGRESS: at 10.84% examples, 506959 words/s, in_qsize 15, out_qsize 0\n",
      "2017-10-21 09:56:07,531 : INFO : PROGRESS: at 11.03% examples, 507485 words/s, in_qsize 15, out_qsize 0\n",
      "2017-10-21 09:56:08,571 : INFO : PROGRESS: at 11.19% examples, 506751 words/s, in_qsize 14, out_qsize 1\n",
      "2017-10-21 09:56:09,576 : INFO : PROGRESS: at 11.33% examples, 505344 words/s, in_qsize 16, out_qsize 0\n",
      "2017-10-21 09:56:10,678 : INFO : PROGRESS: at 11.49% examples, 504127 words/s, in_qsize 13, out_qsize 2\n",
      "2017-10-21 09:56:11,693 : INFO : PROGRESS: at 11.63% examples, 502567 words/s, in_qsize 14, out_qsize 1\n",
      "2017-10-21 09:56:12,721 : INFO : PROGRESS: at 11.77% examples, 501259 words/s, in_qsize 14, out_qsize 1\n",
      "2017-10-21 09:56:13,731 : INFO : PROGRESS: at 11.91% examples, 499826 words/s, in_qsize 15, out_qsize 0\n",
      "2017-10-21 09:56:14,793 : INFO : PROGRESS: at 12.04% examples, 498079 words/s, in_qsize 13, out_qsize 2\n",
      "2017-10-21 09:56:15,826 : INFO : PROGRESS: at 12.17% examples, 496179 words/s, in_qsize 15, out_qsize 0\n",
      "2017-10-21 09:56:16,853 : INFO : PROGRESS: at 12.31% examples, 494761 words/s, in_qsize 15, out_qsize 0\n",
      "2017-10-21 09:56:17,861 : INFO : PROGRESS: at 12.42% examples, 492715 words/s, in_qsize 15, out_qsize 1\n",
      "2017-10-21 09:56:18,914 : INFO : PROGRESS: at 12.59% examples, 492260 words/s, in_qsize 15, out_qsize 0\n",
      "2017-10-21 09:56:19,942 : INFO : PROGRESS: at 12.76% examples, 492371 words/s, in_qsize 13, out_qsize 3\n",
      "2017-10-21 09:56:20,971 : INFO : PROGRESS: at 12.95% examples, 493088 words/s, in_qsize 16, out_qsize 2\n",
      "2017-10-21 09:56:22,001 : INFO : PROGRESS: at 13.14% examples, 493677 words/s, in_qsize 14, out_qsize 1\n",
      "2017-10-21 09:56:23,023 : INFO : PROGRESS: at 13.30% examples, 493315 words/s, in_qsize 15, out_qsize 0\n",
      "2017-10-21 09:56:24,029 : INFO : PROGRESS: at 13.48% examples, 493691 words/s, in_qsize 15, out_qsize 0\n",
      "2017-10-21 09:56:25,045 : INFO : PROGRESS: at 13.65% examples, 493933 words/s, in_qsize 15, out_qsize 0\n",
      "2017-10-21 09:56:26,075 : INFO : PROGRESS: at 13.84% examples, 494344 words/s, in_qsize 14, out_qsize 1\n",
      "2017-10-21 09:56:27,120 : INFO : PROGRESS: at 14.03% examples, 495030 words/s, in_qsize 15, out_qsize 0\n",
      "2017-10-21 09:56:28,161 : INFO : PROGRESS: at 14.20% examples, 495015 words/s, in_qsize 15, out_qsize 0\n",
      "2017-10-21 09:56:29,200 : INFO : PROGRESS: at 14.39% examples, 495443 words/s, in_qsize 15, out_qsize 0\n",
      "2017-10-21 09:56:30,207 : INFO : PROGRESS: at 14.56% examples, 495538 words/s, in_qsize 15, out_qsize 0\n",
      "2017-10-21 09:56:31,243 : INFO : PROGRESS: at 14.73% examples, 495544 words/s, in_qsize 14, out_qsize 1\n",
      "2017-10-21 09:56:32,256 : INFO : PROGRESS: at 14.92% examples, 496010 words/s, in_qsize 15, out_qsize 0\n",
      "2017-10-21 09:56:33,257 : INFO : PROGRESS: at 15.09% examples, 496079 words/s, in_qsize 14, out_qsize 1\n",
      "2017-10-21 09:56:34,254 : INFO : PROGRESS: at 15.25% examples, 496055 words/s, in_qsize 12, out_qsize 3\n",
      "2017-10-21 09:56:35,283 : INFO : PROGRESS: at 15.43% examples, 496134 words/s, in_qsize 15, out_qsize 0\n",
      "2017-10-21 09:56:36,303 : INFO : PROGRESS: at 15.62% examples, 496921 words/s, in_qsize 15, out_qsize 0\n",
      "2017-10-21 09:56:37,317 : INFO : PROGRESS: at 15.79% examples, 496756 words/s, in_qsize 15, out_qsize 0\n",
      "2017-10-21 09:56:38,316 : INFO : PROGRESS: at 15.95% examples, 496618 words/s, in_qsize 15, out_qsize 0\n",
      "2017-10-21 09:56:39,371 : INFO : PROGRESS: at 16.11% examples, 496221 words/s, in_qsize 15, out_qsize 0\n",
      "2017-10-21 09:56:40,376 : INFO : PROGRESS: at 16.27% examples, 495981 words/s, in_qsize 15, out_qsize 0\n",
      "2017-10-21 09:56:41,377 : INFO : PROGRESS: at 16.43% examples, 495556 words/s, in_qsize 15, out_qsize 0\n",
      "2017-10-21 09:56:42,422 : INFO : PROGRESS: at 16.60% examples, 495352 words/s, in_qsize 15, out_qsize 0\n"
     ]
    },
    {
     "name": "stderr",
     "output_type": "stream",
     "text": [
      "2017-10-21 09:56:43,438 : INFO : PROGRESS: at 16.78% examples, 495723 words/s, in_qsize 15, out_qsize 0\n",
      "2017-10-21 09:56:44,502 : INFO : PROGRESS: at 16.95% examples, 495587 words/s, in_qsize 15, out_qsize 0\n",
      "2017-10-21 09:56:45,503 : INFO : PROGRESS: at 17.12% examples, 495572 words/s, in_qsize 15, out_qsize 0\n",
      "2017-10-21 09:56:46,535 : INFO : PROGRESS: at 17.29% examples, 495605 words/s, in_qsize 14, out_qsize 3\n",
      "2017-10-21 09:56:47,533 : INFO : PROGRESS: at 17.48% examples, 496125 words/s, in_qsize 16, out_qsize 0\n",
      "2017-10-21 09:56:48,584 : INFO : PROGRESS: at 17.65% examples, 496197 words/s, in_qsize 13, out_qsize 2\n",
      "2017-10-21 09:56:49,578 : INFO : PROGRESS: at 17.84% examples, 496717 words/s, in_qsize 15, out_qsize 0\n",
      "2017-10-21 09:56:50,594 : INFO : PROGRESS: at 18.01% examples, 496703 words/s, in_qsize 15, out_qsize 0\n",
      "2017-10-21 09:56:51,610 : INFO : PROGRESS: at 18.20% examples, 497184 words/s, in_qsize 15, out_qsize 0\n",
      "2017-10-21 09:56:52,625 : INFO : PROGRESS: at 18.37% examples, 497294 words/s, in_qsize 15, out_qsize 0\n",
      "2017-10-21 09:56:53,633 : INFO : PROGRESS: at 18.55% examples, 497503 words/s, in_qsize 14, out_qsize 1\n",
      "2017-10-21 09:56:54,628 : INFO : PROGRESS: at 18.72% examples, 497543 words/s, in_qsize 15, out_qsize 0\n",
      "2017-10-21 09:56:55,668 : INFO : PROGRESS: at 18.90% examples, 497799 words/s, in_qsize 15, out_qsize 0\n",
      "2017-10-21 09:56:56,763 : INFO : PROGRESS: at 19.09% examples, 497900 words/s, in_qsize 14, out_qsize 1\n",
      "2017-10-21 09:56:57,765 : INFO : PROGRESS: at 19.27% examples, 498290 words/s, in_qsize 15, out_qsize 0\n",
      "2017-10-21 09:56:58,776 : INFO : PROGRESS: at 19.44% examples, 498212 words/s, in_qsize 15, out_qsize 0\n",
      "2017-10-21 09:56:59,817 : INFO : PROGRESS: at 19.62% examples, 498377 words/s, in_qsize 15, out_qsize 0\n",
      "2017-10-21 09:57:00,838 : INFO : PROGRESS: at 19.81% examples, 498721 words/s, in_qsize 14, out_qsize 1\n",
      "2017-10-21 09:57:01,875 : INFO : PROGRESS: at 19.99% examples, 498866 words/s, in_qsize 15, out_qsize 0\n",
      "2017-10-21 09:57:02,884 : INFO : PROGRESS: at 20.16% examples, 498871 words/s, in_qsize 14, out_qsize 1\n",
      "2017-10-21 09:57:03,910 : INFO : PROGRESS: at 20.34% examples, 499139 words/s, in_qsize 15, out_qsize 0\n",
      "2017-10-21 09:57:04,921 : INFO : PROGRESS: at 20.52% examples, 499291 words/s, in_qsize 15, out_qsize 0\n",
      "2017-10-21 09:57:05,926 : INFO : PROGRESS: at 20.68% examples, 499223 words/s, in_qsize 15, out_qsize 0\n",
      "2017-10-21 09:57:06,962 : INFO : PROGRESS: at 20.86% examples, 499371 words/s, in_qsize 15, out_qsize 0\n",
      "2017-10-21 09:57:07,990 : INFO : PROGRESS: at 21.04% examples, 499353 words/s, in_qsize 10, out_qsize 5\n",
      "2017-10-21 09:57:09,029 : INFO : PROGRESS: at 21.23% examples, 499859 words/s, in_qsize 14, out_qsize 1\n",
      "2017-10-21 09:57:10,037 : INFO : PROGRESS: at 21.42% examples, 500184 words/s, in_qsize 15, out_qsize 0\n",
      "2017-10-21 09:57:11,069 : INFO : PROGRESS: at 21.58% examples, 499876 words/s, in_qsize 14, out_qsize 1\n",
      "2017-10-21 09:57:12,071 : INFO : PROGRESS: at 21.76% examples, 500012 words/s, in_qsize 15, out_qsize 0\n",
      "2017-10-21 09:57:13,124 : INFO : PROGRESS: at 21.95% examples, 500378 words/s, in_qsize 15, out_qsize 0\n",
      "2017-10-21 09:57:14,142 : INFO : PROGRESS: at 22.12% examples, 500501 words/s, in_qsize 15, out_qsize 0\n",
      "2017-10-21 09:57:15,140 : INFO : PROGRESS: at 22.29% examples, 500375 words/s, in_qsize 15, out_qsize 0\n",
      "2017-10-21 09:57:16,178 : INFO : PROGRESS: at 22.45% examples, 500003 words/s, in_qsize 14, out_qsize 1\n",
      "2017-10-21 09:57:17,191 : INFO : PROGRESS: at 22.60% examples, 499645 words/s, in_qsize 15, out_qsize 0\n",
      "2017-10-21 09:57:18,220 : INFO : PROGRESS: at 22.77% examples, 499447 words/s, in_qsize 14, out_qsize 1\n",
      "2017-10-21 09:57:19,302 : INFO : PROGRESS: at 22.96% examples, 499724 words/s, in_qsize 14, out_qsize 1\n",
      "2017-10-21 09:57:20,298 : INFO : PROGRESS: at 23.15% examples, 500247 words/s, in_qsize 15, out_qsize 0\n",
      "2017-10-21 09:57:21,305 : INFO : PROGRESS: at 23.32% examples, 500228 words/s, in_qsize 12, out_qsize 3\n",
      "2017-10-21 09:57:22,360 : INFO : PROGRESS: at 23.51% examples, 500510 words/s, in_qsize 15, out_qsize 0\n",
      "2017-10-21 09:57:23,394 : INFO : PROGRESS: at 23.69% examples, 500582 words/s, in_qsize 14, out_qsize 1\n",
      "2017-10-21 09:57:24,429 : INFO : PROGRESS: at 23.88% examples, 500904 words/s, in_qsize 14, out_qsize 1\n",
      "2017-10-21 09:57:25,463 : INFO : PROGRESS: at 24.05% examples, 500737 words/s, in_qsize 15, out_qsize 0\n",
      "2017-10-21 09:57:26,479 : INFO : PROGRESS: at 24.23% examples, 500976 words/s, in_qsize 15, out_qsize 0\n",
      "2017-10-21 09:57:27,545 : INFO : PROGRESS: at 24.42% examples, 501120 words/s, in_qsize 15, out_qsize 0\n",
      "2017-10-21 09:57:28,585 : INFO : PROGRESS: at 24.59% examples, 501071 words/s, in_qsize 15, out_qsize 0\n",
      "2017-10-21 09:57:29,595 : INFO : PROGRESS: at 24.76% examples, 500923 words/s, in_qsize 16, out_qsize 1\n",
      "2017-10-21 09:57:30,633 : INFO : PROGRESS: at 24.90% examples, 500413 words/s, in_qsize 15, out_qsize 1\n",
      "2017-10-21 09:57:31,679 : INFO : PROGRESS: at 25.08% examples, 500353 words/s, in_qsize 15, out_qsize 0\n",
      "2017-10-21 09:57:32,686 : INFO : PROGRESS: at 25.27% examples, 500750 words/s, in_qsize 16, out_qsize 0\n",
      "2017-10-21 09:57:33,715 : INFO : PROGRESS: at 25.45% examples, 500935 words/s, in_qsize 15, out_qsize 0\n",
      "2017-10-21 09:57:34,730 : INFO : PROGRESS: at 25.63% examples, 501128 words/s, in_qsize 15, out_qsize 0\n",
      "2017-10-21 09:57:35,743 : INFO : PROGRESS: at 25.82% examples, 501520 words/s, in_qsize 14, out_qsize 1\n",
      "2017-10-21 09:57:36,774 : INFO : PROGRESS: at 25.98% examples, 501132 words/s, in_qsize 15, out_qsize 0\n",
      "2017-10-21 09:57:37,779 : INFO : PROGRESS: at 26.14% examples, 501016 words/s, in_qsize 15, out_qsize 0\n",
      "2017-10-21 09:57:38,790 : INFO : PROGRESS: at 26.30% examples, 500739 words/s, in_qsize 15, out_qsize 0\n",
      "2017-10-21 09:57:39,823 : INFO : PROGRESS: at 26.49% examples, 501041 words/s, in_qsize 15, out_qsize 0\n",
      "2017-10-21 09:57:40,843 : INFO : PROGRESS: at 26.67% examples, 501164 words/s, in_qsize 16, out_qsize 0\n",
      "2017-10-21 09:57:41,838 : INFO : PROGRESS: at 26.85% examples, 501367 words/s, in_qsize 15, out_qsize 0\n",
      "2017-10-21 09:57:42,855 : INFO : PROGRESS: at 27.03% examples, 501622 words/s, in_qsize 14, out_qsize 1\n",
      "2017-10-21 09:57:43,859 : INFO : PROGRESS: at 27.22% examples, 501869 words/s, in_qsize 15, out_qsize 0\n",
      "2017-10-21 09:57:44,879 : INFO : PROGRESS: at 27.38% examples, 501684 words/s, in_qsize 15, out_qsize 0\n",
      "2017-10-21 09:57:45,876 : INFO : PROGRESS: at 27.56% examples, 501814 words/s, in_qsize 16, out_qsize 0\n",
      "2017-10-21 09:57:46,933 : INFO : PROGRESS: at 27.73% examples, 501791 words/s, in_qsize 16, out_qsize 2\n",
      "2017-10-21 09:57:47,952 : INFO : PROGRESS: at 27.91% examples, 501887 words/s, in_qsize 15, out_qsize 0\n",
      "2017-10-21 09:57:48,959 : INFO : PROGRESS: at 28.07% examples, 501685 words/s, in_qsize 10, out_qsize 5\n",
      "2017-10-21 09:57:49,989 : INFO : PROGRESS: at 28.27% examples, 502123 words/s, in_qsize 13, out_qsize 2\n",
      "2017-10-21 09:57:51,027 : INFO : PROGRESS: at 28.45% examples, 502265 words/s, in_qsize 15, out_qsize 0\n",
      "2017-10-21 09:57:52,054 : INFO : PROGRESS: at 28.64% examples, 502520 words/s, in_qsize 14, out_qsize 1\n",
      "2017-10-21 09:57:53,047 : INFO : PROGRESS: at 28.83% examples, 502818 words/s, in_qsize 15, out_qsize 0\n",
      "2017-10-21 09:57:54,058 : INFO : PROGRESS: at 29.00% examples, 502816 words/s, in_qsize 13, out_qsize 2\n",
      "2017-10-21 09:57:55,064 : INFO : PROGRESS: at 29.17% examples, 502913 words/s, in_qsize 16, out_qsize 0\n",
      "2017-10-21 09:57:56,070 : INFO : PROGRESS: at 29.35% examples, 503061 words/s, in_qsize 12, out_qsize 3\n",
      "2017-10-21 09:57:57,090 : INFO : PROGRESS: at 29.53% examples, 503150 words/s, in_qsize 15, out_qsize 0\n",
      "2017-10-21 09:57:58,116 : INFO : PROGRESS: at 29.72% examples, 503301 words/s, in_qsize 14, out_qsize 1\n",
      "2017-10-21 09:57:59,134 : INFO : PROGRESS: at 29.90% examples, 503540 words/s, in_qsize 15, out_qsize 0\n",
      "2017-10-21 09:58:00,131 : INFO : PROGRESS: at 30.07% examples, 503577 words/s, in_qsize 15, out_qsize 0\n",
      "2017-10-21 09:58:01,168 : INFO : PROGRESS: at 30.26% examples, 503788 words/s, in_qsize 15, out_qsize 0\n",
      "2017-10-21 09:58:02,170 : INFO : PROGRESS: at 30.43% examples, 503818 words/s, in_qsize 15, out_qsize 0\n"
     ]
    },
    {
     "name": "stderr",
     "output_type": "stream",
     "text": [
      "2017-10-21 09:58:03,183 : INFO : PROGRESS: at 30.61% examples, 503862 words/s, in_qsize 13, out_qsize 2\n",
      "2017-10-21 09:58:04,207 : INFO : PROGRESS: at 30.80% examples, 504123 words/s, in_qsize 15, out_qsize 0\n",
      "2017-10-21 09:58:05,259 : INFO : PROGRESS: at 30.97% examples, 504031 words/s, in_qsize 14, out_qsize 1\n",
      "2017-10-21 09:58:06,268 : INFO : PROGRESS: at 31.14% examples, 503906 words/s, in_qsize 15, out_qsize 0\n",
      "2017-10-21 09:58:07,294 : INFO : PROGRESS: at 31.33% examples, 504229 words/s, in_qsize 15, out_qsize 0\n",
      "2017-10-21 09:58:08,361 : INFO : PROGRESS: at 31.52% examples, 504387 words/s, in_qsize 14, out_qsize 1\n",
      "2017-10-21 09:58:09,416 : INFO : PROGRESS: at 31.72% examples, 504678 words/s, in_qsize 15, out_qsize 0\n",
      "2017-10-21 09:58:10,436 : INFO : PROGRESS: at 31.92% examples, 505019 words/s, in_qsize 15, out_qsize 0\n",
      "2017-10-21 09:58:11,458 : INFO : PROGRESS: at 32.07% examples, 504770 words/s, in_qsize 15, out_qsize 0\n",
      "2017-10-21 09:58:12,475 : INFO : PROGRESS: at 32.22% examples, 504306 words/s, in_qsize 15, out_qsize 0\n",
      "2017-10-21 09:58:13,530 : INFO : PROGRESS: at 32.39% examples, 504208 words/s, in_qsize 16, out_qsize 3\n",
      "2017-10-21 09:58:14,532 : INFO : PROGRESS: at 32.57% examples, 504280 words/s, in_qsize 15, out_qsize 0\n",
      "2017-10-21 09:58:15,544 : INFO : PROGRESS: at 32.72% examples, 504009 words/s, in_qsize 15, out_qsize 0\n",
      "2017-10-21 09:58:16,553 : INFO : PROGRESS: at 32.89% examples, 503946 words/s, in_qsize 13, out_qsize 2\n",
      "2017-10-21 09:58:17,569 : INFO : PROGRESS: at 33.07% examples, 504109 words/s, in_qsize 12, out_qsize 0\n",
      "2017-10-21 09:58:18,587 : INFO : PROGRESS: at 33.25% examples, 504217 words/s, in_qsize 13, out_qsize 0\n",
      "2017-10-21 09:58:19,597 : INFO : PROGRESS: at 33.44% examples, 504469 words/s, in_qsize 15, out_qsize 0\n",
      "2017-10-21 09:58:20,612 : INFO : PROGRESS: at 33.62% examples, 504603 words/s, in_qsize 15, out_qsize 0\n",
      "2017-10-21 09:58:21,653 : INFO : PROGRESS: at 33.80% examples, 504630 words/s, in_qsize 15, out_qsize 0\n",
      "2017-10-21 09:58:22,660 : INFO : PROGRESS: at 33.98% examples, 504822 words/s, in_qsize 15, out_qsize 0\n",
      "2017-10-21 09:58:23,676 : INFO : PROGRESS: at 34.16% examples, 504829 words/s, in_qsize 15, out_qsize 0\n",
      "2017-10-21 09:58:24,684 : INFO : PROGRESS: at 34.34% examples, 505001 words/s, in_qsize 14, out_qsize 1\n",
      "2017-10-21 09:58:25,788 : INFO : PROGRESS: at 34.53% examples, 505038 words/s, in_qsize 15, out_qsize 0\n",
      "2017-10-21 09:58:26,791 : INFO : PROGRESS: at 34.72% examples, 505198 words/s, in_qsize 16, out_qsize 1\n",
      "2017-10-21 09:58:27,805 : INFO : PROGRESS: at 34.88% examples, 505021 words/s, in_qsize 15, out_qsize 0\n",
      "2017-10-21 09:58:28,839 : INFO : PROGRESS: at 35.04% examples, 504902 words/s, in_qsize 14, out_qsize 1\n",
      "2017-10-21 09:58:29,837 : INFO : PROGRESS: at 35.21% examples, 504875 words/s, in_qsize 15, out_qsize 0\n",
      "2017-10-21 09:58:30,863 : INFO : PROGRESS: at 35.39% examples, 504932 words/s, in_qsize 15, out_qsize 0\n",
      "2017-10-21 09:58:31,879 : INFO : PROGRESS: at 35.55% examples, 504702 words/s, in_qsize 15, out_qsize 0\n",
      "2017-10-21 09:58:32,869 : INFO : PROGRESS: at 35.70% examples, 504507 words/s, in_qsize 14, out_qsize 1\n",
      "2017-10-21 09:58:33,875 : INFO : PROGRESS: at 35.89% examples, 504725 words/s, in_qsize 15, out_qsize 0\n",
      "2017-10-21 09:58:34,925 : INFO : PROGRESS: at 36.07% examples, 504766 words/s, in_qsize 12, out_qsize 3\n",
      "2017-10-21 09:58:35,944 : INFO : PROGRESS: at 36.26% examples, 504942 words/s, in_qsize 15, out_qsize 0\n",
      "2017-10-21 09:58:36,976 : INFO : PROGRESS: at 36.46% examples, 505292 words/s, in_qsize 15, out_qsize 0\n",
      "2017-10-21 09:58:37,986 : INFO : PROGRESS: at 36.62% examples, 505172 words/s, in_qsize 15, out_qsize 0\n",
      "2017-10-21 09:58:38,977 : INFO : PROGRESS: at 36.80% examples, 505303 words/s, in_qsize 15, out_qsize 0\n",
      "2017-10-21 09:58:40,021 : INFO : PROGRESS: at 36.98% examples, 505355 words/s, in_qsize 13, out_qsize 2\n",
      "2017-10-21 09:58:41,025 : INFO : PROGRESS: at 37.17% examples, 505638 words/s, in_qsize 15, out_qsize 0\n",
      "2017-10-21 09:58:42,041 : INFO : PROGRESS: at 37.35% examples, 505711 words/s, in_qsize 15, out_qsize 0\n",
      "2017-10-21 09:58:43,043 : INFO : PROGRESS: at 37.53% examples, 505790 words/s, in_qsize 16, out_qsize 1\n",
      "2017-10-21 09:58:44,128 : INFO : PROGRESS: at 37.73% examples, 505931 words/s, in_qsize 16, out_qsize 1\n",
      "2017-10-21 09:58:45,176 : INFO : PROGRESS: at 37.92% examples, 506183 words/s, in_qsize 15, out_qsize 0\n",
      "2017-10-21 09:58:46,182 : INFO : PROGRESS: at 38.10% examples, 506238 words/s, in_qsize 15, out_qsize 0\n",
      "2017-10-21 09:58:47,187 : INFO : PROGRESS: at 38.28% examples, 506406 words/s, in_qsize 15, out_qsize 0\n",
      "2017-10-21 09:58:48,203 : INFO : PROGRESS: at 38.47% examples, 506552 words/s, in_qsize 15, out_qsize 0\n",
      "2017-10-21 09:58:49,235 : INFO : PROGRESS: at 38.64% examples, 506583 words/s, in_qsize 15, out_qsize 0\n",
      "2017-10-21 09:58:50,251 : INFO : PROGRESS: at 38.82% examples, 506539 words/s, in_qsize 14, out_qsize 1\n",
      "2017-10-21 09:58:51,276 : INFO : PROGRESS: at 39.01% examples, 506777 words/s, in_qsize 14, out_qsize 1\n",
      "2017-10-21 09:58:52,271 : INFO : PROGRESS: at 39.19% examples, 506891 words/s, in_qsize 15, out_qsize 0\n",
      "2017-10-21 09:58:53,270 : INFO : PROGRESS: at 39.35% examples, 506789 words/s, in_qsize 15, out_qsize 0\n",
      "2017-10-21 09:58:54,277 : INFO : PROGRESS: at 39.54% examples, 506981 words/s, in_qsize 16, out_qsize 0\n",
      "2017-10-21 09:58:55,401 : INFO : PROGRESS: at 39.73% examples, 506977 words/s, in_qsize 10, out_qsize 5\n",
      "2017-10-21 09:58:56,412 : INFO : PROGRESS: at 39.92% examples, 507233 words/s, in_qsize 15, out_qsize 0\n",
      "2017-10-21 09:58:57,437 : INFO : PROGRESS: at 40.10% examples, 507225 words/s, in_qsize 15, out_qsize 0\n",
      "2017-10-21 09:58:58,465 : INFO : PROGRESS: at 40.28% examples, 507350 words/s, in_qsize 14, out_qsize 1\n",
      "2017-10-21 09:58:59,463 : INFO : PROGRESS: at 40.46% examples, 507353 words/s, in_qsize 15, out_qsize 0\n",
      "2017-10-21 09:59:00,495 : INFO : PROGRESS: at 40.64% examples, 507422 words/s, in_qsize 15, out_qsize 0\n",
      "2017-10-21 09:59:01,503 : INFO : PROGRESS: at 40.82% examples, 507521 words/s, in_qsize 15, out_qsize 0\n",
      "2017-10-21 09:59:02,503 : INFO : PROGRESS: at 40.97% examples, 507259 words/s, in_qsize 15, out_qsize 0\n",
      "2017-10-21 09:59:03,515 : INFO : PROGRESS: at 41.14% examples, 507198 words/s, in_qsize 15, out_qsize 2\n",
      "2017-10-21 09:59:04,565 : INFO : PROGRESS: at 41.33% examples, 507408 words/s, in_qsize 15, out_qsize 0\n",
      "2017-10-21 09:59:05,610 : INFO : PROGRESS: at 41.49% examples, 507158 words/s, in_qsize 12, out_qsize 3\n",
      "2017-10-21 09:59:06,649 : INFO : PROGRESS: at 41.66% examples, 507110 words/s, in_qsize 15, out_qsize 0\n",
      "2017-10-21 09:59:07,661 : INFO : PROGRESS: at 41.80% examples, 506665 words/s, in_qsize 14, out_qsize 1\n",
      "2017-10-21 09:59:08,681 : INFO : PROGRESS: at 41.99% examples, 506778 words/s, in_qsize 15, out_qsize 0\n",
      "2017-10-21 09:59:09,681 : INFO : PROGRESS: at 42.14% examples, 506566 words/s, in_qsize 15, out_qsize 0\n",
      "2017-10-21 09:59:10,711 : INFO : PROGRESS: at 42.28% examples, 506178 words/s, in_qsize 15, out_qsize 0\n",
      "2017-10-21 09:59:11,721 : INFO : PROGRESS: at 42.44% examples, 505989 words/s, in_qsize 14, out_qsize 1\n",
      "2017-10-21 09:59:12,741 : INFO : PROGRESS: at 42.57% examples, 505549 words/s, in_qsize 14, out_qsize 1\n",
      "2017-10-21 09:59:13,743 : INFO : PROGRESS: at 42.71% examples, 505101 words/s, in_qsize 15, out_qsize 0\n",
      "2017-10-21 09:59:14,836 : INFO : PROGRESS: at 42.83% examples, 504364 words/s, in_qsize 15, out_qsize 0\n",
      "2017-10-21 09:59:15,851 : INFO : PROGRESS: at 42.96% examples, 503825 words/s, in_qsize 15, out_qsize 0\n",
      "2017-10-21 09:59:16,858 : INFO : PROGRESS: at 43.06% examples, 503070 words/s, in_qsize 15, out_qsize 0\n",
      "2017-10-21 09:59:17,861 : INFO : PROGRESS: at 43.19% examples, 502528 words/s, in_qsize 14, out_qsize 1\n",
      "2017-10-21 09:59:18,866 : INFO : PROGRESS: at 43.32% examples, 502023 words/s, in_qsize 15, out_qsize 0\n",
      "2017-10-21 09:59:19,936 : INFO : PROGRESS: at 43.47% examples, 501702 words/s, in_qsize 14, out_qsize 1\n",
      "2017-10-21 09:59:20,986 : INFO : PROGRESS: at 43.63% examples, 501498 words/s, in_qsize 15, out_qsize 0\n",
      "2017-10-21 09:59:22,034 : INFO : PROGRESS: at 43.78% examples, 501152 words/s, in_qsize 10, out_qsize 5\n"
     ]
    },
    {
     "name": "stderr",
     "output_type": "stream",
     "text": [
      "2017-10-21 09:59:23,041 : INFO : PROGRESS: at 43.94% examples, 501036 words/s, in_qsize 15, out_qsize 0\n",
      "2017-10-21 09:59:24,061 : INFO : PROGRESS: at 44.08% examples, 500706 words/s, in_qsize 15, out_qsize 0\n",
      "2017-10-21 09:59:25,081 : INFO : PROGRESS: at 44.22% examples, 500381 words/s, in_qsize 15, out_qsize 0\n",
      "2017-10-21 09:59:26,141 : INFO : PROGRESS: at 44.38% examples, 500166 words/s, in_qsize 16, out_qsize 0\n",
      "2017-10-21 09:59:27,141 : INFO : PROGRESS: at 44.52% examples, 499843 words/s, in_qsize 15, out_qsize 0\n",
      "2017-10-21 09:59:28,161 : INFO : PROGRESS: at 44.68% examples, 499713 words/s, in_qsize 16, out_qsize 0\n",
      "2017-10-21 09:59:29,196 : INFO : PROGRESS: at 44.83% examples, 499441 words/s, in_qsize 15, out_qsize 0\n",
      "2017-10-21 09:59:30,199 : INFO : PROGRESS: at 44.98% examples, 499193 words/s, in_qsize 15, out_qsize 0\n",
      "2017-10-21 09:59:31,301 : INFO : PROGRESS: at 45.12% examples, 498655 words/s, in_qsize 13, out_qsize 2\n",
      "2017-10-21 09:59:32,321 : INFO : PROGRESS: at 45.25% examples, 498233 words/s, in_qsize 13, out_qsize 2\n",
      "2017-10-21 09:59:33,329 : INFO : PROGRESS: at 45.39% examples, 497950 words/s, in_qsize 15, out_qsize 0\n",
      "2017-10-21 09:59:34,371 : INFO : PROGRESS: at 45.54% examples, 497639 words/s, in_qsize 15, out_qsize 0\n",
      "2017-10-21 09:59:35,382 : INFO : PROGRESS: at 45.70% examples, 497501 words/s, in_qsize 15, out_qsize 0\n",
      "2017-10-21 09:59:36,455 : INFO : PROGRESS: at 45.88% examples, 497537 words/s, in_qsize 14, out_qsize 1\n",
      "2017-10-21 09:59:37,552 : INFO : PROGRESS: at 46.05% examples, 497386 words/s, in_qsize 16, out_qsize 1\n",
      "2017-10-21 09:59:38,677 : INFO : PROGRESS: at 46.19% examples, 496898 words/s, in_qsize 14, out_qsize 1\n",
      "2017-10-21 09:59:39,722 : INFO : PROGRESS: at 46.24% examples, 495447 words/s, in_qsize 15, out_qsize 0\n",
      "2017-10-21 09:59:40,745 : INFO : PROGRESS: at 46.31% examples, 494333 words/s, in_qsize 16, out_qsize 0\n",
      "2017-10-21 09:59:41,762 : INFO : PROGRESS: at 46.41% examples, 493664 words/s, in_qsize 15, out_qsize 0\n",
      "2017-10-21 09:59:42,773 : INFO : PROGRESS: at 46.55% examples, 493295 words/s, in_qsize 15, out_qsize 0\n",
      "2017-10-21 09:59:43,844 : INFO : PROGRESS: at 46.63% examples, 492328 words/s, in_qsize 14, out_qsize 4\n",
      "2017-10-21 09:59:44,863 : INFO : PROGRESS: at 46.78% examples, 492022 words/s, in_qsize 14, out_qsize 1\n",
      "2017-10-21 09:59:45,869 : INFO : PROGRESS: at 46.93% examples, 491844 words/s, in_qsize 15, out_qsize 0\n",
      "2017-10-21 09:59:46,875 : INFO : PROGRESS: at 47.07% examples, 491595 words/s, in_qsize 15, out_qsize 0\n",
      "2017-10-21 09:59:47,874 : INFO : PROGRESS: at 47.23% examples, 491533 words/s, in_qsize 16, out_qsize 0\n",
      "2017-10-21 09:59:48,949 : INFO : PROGRESS: at 47.36% examples, 491042 words/s, in_qsize 15, out_qsize 0\n",
      "2017-10-21 09:59:49,954 : INFO : PROGRESS: at 47.49% examples, 490631 words/s, in_qsize 14, out_qsize 1\n",
      "2017-10-21 09:59:50,968 : INFO : PROGRESS: at 47.63% examples, 490347 words/s, in_qsize 16, out_qsize 0\n",
      "2017-10-21 09:59:51,970 : INFO : PROGRESS: at 47.78% examples, 490211 words/s, in_qsize 14, out_qsize 1\n",
      "2017-10-21 09:59:52,981 : INFO : PROGRESS: at 47.92% examples, 489976 words/s, in_qsize 14, out_qsize 3\n",
      "2017-10-21 09:59:53,973 : INFO : PROGRESS: at 48.07% examples, 489816 words/s, in_qsize 16, out_qsize 1\n",
      "2017-10-21 09:59:55,050 : INFO : PROGRESS: at 48.25% examples, 489790 words/s, in_qsize 16, out_qsize 0\n",
      "2017-10-21 09:59:56,051 : INFO : PROGRESS: at 48.40% examples, 489669 words/s, in_qsize 15, out_qsize 0\n",
      "2017-10-21 09:59:57,088 : INFO : PROGRESS: at 48.53% examples, 489287 words/s, in_qsize 15, out_qsize 0\n",
      "2017-10-21 09:59:58,081 : INFO : PROGRESS: at 48.68% examples, 489127 words/s, in_qsize 13, out_qsize 2\n",
      "2017-10-21 09:59:59,116 : INFO : PROGRESS: at 48.84% examples, 489042 words/s, in_qsize 15, out_qsize 0\n",
      "2017-10-21 10:00:00,132 : INFO : PROGRESS: at 49.00% examples, 488900 words/s, in_qsize 15, out_qsize 0\n",
      "2017-10-21 10:00:01,140 : INFO : PROGRESS: at 49.16% examples, 488872 words/s, in_qsize 15, out_qsize 0\n",
      "2017-10-21 10:00:02,159 : INFO : PROGRESS: at 49.30% examples, 488611 words/s, in_qsize 15, out_qsize 0\n",
      "2017-10-21 10:00:03,195 : INFO : PROGRESS: at 49.46% examples, 488457 words/s, in_qsize 16, out_qsize 0\n",
      "2017-10-21 10:00:04,202 : INFO : PROGRESS: at 49.59% examples, 488104 words/s, in_qsize 15, out_qsize 0\n",
      "2017-10-21 10:00:05,224 : INFO : PROGRESS: at 49.73% examples, 487859 words/s, in_qsize 15, out_qsize 0\n",
      "2017-10-21 10:00:06,266 : INFO : PROGRESS: at 49.88% examples, 487651 words/s, in_qsize 13, out_qsize 2\n",
      "2017-10-21 10:00:07,286 : INFO : PROGRESS: at 50.08% examples, 487962 words/s, in_qsize 15, out_qsize 0\n",
      "2017-10-21 10:00:08,297 : INFO : PROGRESS: at 50.24% examples, 487873 words/s, in_qsize 15, out_qsize 0\n",
      "2017-10-21 10:00:09,303 : INFO : PROGRESS: at 50.43% examples, 488108 words/s, in_qsize 15, out_qsize 0\n",
      "2017-10-21 10:00:10,315 : INFO : PROGRESS: at 50.60% examples, 488144 words/s, in_qsize 15, out_qsize 0\n",
      "2017-10-21 10:00:11,319 : INFO : PROGRESS: at 50.79% examples, 488414 words/s, in_qsize 15, out_qsize 0\n",
      "2017-10-21 10:00:12,338 : INFO : PROGRESS: at 50.92% examples, 487988 words/s, in_qsize 14, out_qsize 1\n",
      "2017-10-21 10:00:13,362 : INFO : PROGRESS: at 51.04% examples, 487588 words/s, in_qsize 15, out_qsize 0\n",
      "2017-10-21 10:00:14,413 : INFO : PROGRESS: at 51.18% examples, 487212 words/s, in_qsize 15, out_qsize 0\n",
      "2017-10-21 10:00:15,467 : INFO : PROGRESS: at 51.35% examples, 487247 words/s, in_qsize 14, out_qsize 1\n",
      "2017-10-21 10:00:16,460 : INFO : PROGRESS: at 51.50% examples, 487111 words/s, in_qsize 16, out_qsize 1\n",
      "2017-10-21 10:00:17,484 : INFO : PROGRESS: at 51.67% examples, 487109 words/s, in_qsize 14, out_qsize 1\n",
      "2017-10-21 10:00:18,489 : INFO : PROGRESS: at 51.83% examples, 487061 words/s, in_qsize 15, out_qsize 0\n",
      "2017-10-21 10:00:19,556 : INFO : PROGRESS: at 51.99% examples, 486951 words/s, in_qsize 14, out_qsize 1\n",
      "2017-10-21 10:00:20,554 : INFO : PROGRESS: at 52.15% examples, 486876 words/s, in_qsize 13, out_qsize 2\n",
      "2017-10-21 10:00:21,592 : INFO : PROGRESS: at 52.32% examples, 486880 words/s, in_qsize 16, out_qsize 1\n",
      "2017-10-21 10:00:22,582 : INFO : PROGRESS: at 52.48% examples, 486809 words/s, in_qsize 15, out_qsize 0\n",
      "2017-10-21 10:00:23,619 : INFO : PROGRESS: at 52.64% examples, 486763 words/s, in_qsize 15, out_qsize 0\n",
      "2017-10-21 10:00:24,683 : INFO : PROGRESS: at 52.78% examples, 486381 words/s, in_qsize 13, out_qsize 2\n",
      "2017-10-21 10:00:25,705 : INFO : PROGRESS: at 52.93% examples, 486300 words/s, in_qsize 15, out_qsize 0\n",
      "2017-10-21 10:00:26,770 : INFO : PROGRESS: at 53.06% examples, 485905 words/s, in_qsize 15, out_qsize 1\n",
      "2017-10-21 10:00:27,814 : INFO : PROGRESS: at 53.23% examples, 485865 words/s, in_qsize 15, out_qsize 0\n",
      "2017-10-21 10:00:28,820 : INFO : PROGRESS: at 53.36% examples, 485518 words/s, in_qsize 15, out_qsize 0\n",
      "2017-10-21 10:00:29,947 : INFO : PROGRESS: at 53.47% examples, 484966 words/s, in_qsize 16, out_qsize 6\n",
      "2017-10-21 10:00:30,920 : INFO : PROGRESS: at 53.59% examples, 484550 words/s, in_qsize 15, out_qsize 1\n",
      "2017-10-21 10:00:31,929 : INFO : PROGRESS: at 53.74% examples, 484385 words/s, in_qsize 15, out_qsize 0\n",
      "2017-10-21 10:00:32,950 : INFO : PROGRESS: at 53.88% examples, 484085 words/s, in_qsize 15, out_qsize 0\n",
      "2017-10-21 10:00:34,032 : INFO : PROGRESS: at 54.02% examples, 483758 words/s, in_qsize 16, out_qsize 0\n",
      "2017-10-21 10:00:35,036 : INFO : PROGRESS: at 54.15% examples, 483487 words/s, in_qsize 14, out_qsize 1\n",
      "2017-10-21 10:00:36,097 : INFO : PROGRESS: at 54.30% examples, 483311 words/s, in_qsize 13, out_qsize 2\n",
      "2017-10-21 10:00:37,108 : INFO : PROGRESS: at 54.43% examples, 482973 words/s, in_qsize 15, out_qsize 0\n",
      "2017-10-21 10:00:38,136 : INFO : PROGRESS: at 54.55% examples, 482554 words/s, in_qsize 15, out_qsize 0\n",
      "2017-10-21 10:00:39,201 : INFO : PROGRESS: at 54.68% examples, 482202 words/s, in_qsize 15, out_qsize 0\n",
      "2017-10-21 10:00:40,269 : INFO : PROGRESS: at 54.85% examples, 482169 words/s, in_qsize 15, out_qsize 0\n",
      "2017-10-21 10:00:41,271 : INFO : PROGRESS: at 54.96% examples, 481677 words/s, in_qsize 15, out_qsize 0\n",
      "2017-10-21 10:00:42,363 : INFO : PROGRESS: at 55.07% examples, 481118 words/s, in_qsize 15, out_qsize 0\n"
     ]
    },
    {
     "name": "stderr",
     "output_type": "stream",
     "text": [
      "2017-10-21 10:00:43,368 : INFO : PROGRESS: at 55.20% examples, 480772 words/s, in_qsize 16, out_qsize 3\n",
      "2017-10-21 10:00:44,403 : INFO : PROGRESS: at 55.32% examples, 480386 words/s, in_qsize 15, out_qsize 0\n",
      "2017-10-21 10:00:45,449 : INFO : PROGRESS: at 55.41% examples, 479727 words/s, in_qsize 14, out_qsize 1\n",
      "2017-10-21 10:00:46,473 : INFO : PROGRESS: at 55.51% examples, 479102 words/s, in_qsize 15, out_qsize 0\n",
      "2017-10-21 10:00:47,485 : INFO : PROGRESS: at 55.60% examples, 478527 words/s, in_qsize 15, out_qsize 0\n",
      "2017-10-21 10:00:48,495 : INFO : PROGRESS: at 55.70% examples, 477931 words/s, in_qsize 15, out_qsize 0\n",
      "2017-10-21 10:00:49,535 : INFO : PROGRESS: at 55.81% examples, 477438 words/s, in_qsize 15, out_qsize 0\n",
      "2017-10-21 10:00:50,541 : INFO : PROGRESS: at 55.91% examples, 476937 words/s, in_qsize 12, out_qsize 1\n",
      "2017-10-21 10:00:51,570 : INFO : PROGRESS: at 56.03% examples, 476579 words/s, in_qsize 15, out_qsize 0\n",
      "2017-10-21 10:00:52,585 : INFO : PROGRESS: at 56.14% examples, 476072 words/s, in_qsize 14, out_qsize 4\n",
      "2017-10-21 10:00:53,688 : INFO : PROGRESS: at 56.26% examples, 475590 words/s, in_qsize 15, out_qsize 2\n",
      "2017-10-21 10:00:54,693 : INFO : PROGRESS: at 56.37% examples, 475187 words/s, in_qsize 13, out_qsize 2\n",
      "2017-10-21 10:00:55,735 : INFO : PROGRESS: at 56.48% examples, 474707 words/s, in_qsize 15, out_qsize 0\n",
      "2017-10-21 10:00:56,755 : INFO : PROGRESS: at 56.61% examples, 474456 words/s, in_qsize 16, out_qsize 0\n",
      "2017-10-21 10:00:57,760 : INFO : PROGRESS: at 56.75% examples, 474254 words/s, in_qsize 15, out_qsize 0\n",
      "2017-10-21 10:00:58,762 : INFO : PROGRESS: at 56.91% examples, 474225 words/s, in_qsize 15, out_qsize 0\n",
      "2017-10-21 10:00:59,776 : INFO : PROGRESS: at 57.06% examples, 474180 words/s, in_qsize 15, out_qsize 0\n",
      "2017-10-21 10:01:00,784 : INFO : PROGRESS: at 57.20% examples, 473977 words/s, in_qsize 14, out_qsize 0\n",
      "2017-10-21 10:01:01,805 : INFO : PROGRESS: at 57.36% examples, 473924 words/s, in_qsize 16, out_qsize 2\n",
      "2017-10-21 10:01:02,815 : INFO : PROGRESS: at 57.51% examples, 473830 words/s, in_qsize 15, out_qsize 0\n",
      "2017-10-21 10:01:03,829 : INFO : PROGRESS: at 57.65% examples, 473649 words/s, in_qsize 15, out_qsize 0\n",
      "2017-10-21 10:01:04,859 : INFO : PROGRESS: at 57.81% examples, 473639 words/s, in_qsize 15, out_qsize 1\n",
      "2017-10-21 10:01:05,872 : INFO : PROGRESS: at 57.96% examples, 473545 words/s, in_qsize 15, out_qsize 0\n",
      "2017-10-21 10:01:06,910 : INFO : PROGRESS: at 58.12% examples, 473471 words/s, in_qsize 15, out_qsize 0\n",
      "2017-10-21 10:01:07,952 : INFO : PROGRESS: at 58.26% examples, 473284 words/s, in_qsize 15, out_qsize 0\n",
      "2017-10-21 10:01:08,972 : INFO : PROGRESS: at 58.41% examples, 473181 words/s, in_qsize 15, out_qsize 2\n",
      "2017-10-21 10:01:10,010 : INFO : PROGRESS: at 58.57% examples, 473109 words/s, in_qsize 13, out_qsize 2\n",
      "2017-10-21 10:01:11,022 : INFO : PROGRESS: at 58.72% examples, 472990 words/s, in_qsize 15, out_qsize 0\n",
      "2017-10-21 10:01:12,022 : INFO : PROGRESS: at 58.87% examples, 472914 words/s, in_qsize 15, out_qsize 0\n",
      "2017-10-21 10:01:13,043 : INFO : PROGRESS: at 59.02% examples, 472811 words/s, in_qsize 13, out_qsize 2\n",
      "2017-10-21 10:01:14,071 : INFO : PROGRESS: at 59.16% examples, 472648 words/s, in_qsize 15, out_qsize 0\n",
      "2017-10-21 10:01:15,114 : INFO : PROGRESS: at 59.29% examples, 472359 words/s, in_qsize 16, out_qsize 2\n",
      "2017-10-21 10:01:16,123 : INFO : PROGRESS: at 59.43% examples, 472195 words/s, in_qsize 16, out_qsize 1\n",
      "2017-10-21 10:01:17,167 : INFO : PROGRESS: at 59.56% examples, 471935 words/s, in_qsize 15, out_qsize 0\n",
      "2017-10-21 10:01:18,188 : INFO : PROGRESS: at 59.70% examples, 471705 words/s, in_qsize 16, out_qsize 0\n",
      "2017-10-21 10:01:19,249 : INFO : PROGRESS: at 59.84% examples, 471504 words/s, in_qsize 16, out_qsize 1\n",
      "2017-10-21 10:01:20,279 : INFO : PROGRESS: at 60.00% examples, 471500 words/s, in_qsize 14, out_qsize 0\n",
      "2017-10-21 10:01:21,282 : INFO : PROGRESS: at 60.16% examples, 471479 words/s, in_qsize 14, out_qsize 1\n",
      "2017-10-21 10:01:22,373 : INFO : PROGRESS: at 60.31% examples, 471322 words/s, in_qsize 11, out_qsize 4\n",
      "2017-10-21 10:01:23,410 : INFO : PROGRESS: at 60.48% examples, 471312 words/s, in_qsize 16, out_qsize 1\n",
      "2017-10-21 10:01:24,444 : INFO : PROGRESS: at 60.62% examples, 471175 words/s, in_qsize 16, out_qsize 3\n",
      "2017-10-21 10:01:25,471 : INFO : PROGRESS: at 60.77% examples, 471020 words/s, in_qsize 15, out_qsize 0\n",
      "2017-10-21 10:01:26,481 : INFO : PROGRESS: at 60.88% examples, 470683 words/s, in_qsize 15, out_qsize 0\n",
      "2017-10-21 10:01:27,530 : INFO : PROGRESS: at 61.01% examples, 470375 words/s, in_qsize 15, out_qsize 0\n",
      "2017-10-21 10:01:28,542 : INFO : PROGRESS: at 61.14% examples, 470115 words/s, in_qsize 14, out_qsize 1\n",
      "2017-10-21 10:01:29,555 : INFO : PROGRESS: at 61.25% examples, 469727 words/s, in_qsize 15, out_qsize 0\n",
      "2017-10-21 10:01:30,635 : INFO : PROGRESS: at 61.36% examples, 469312 words/s, in_qsize 15, out_qsize 5\n",
      "2017-10-21 10:01:31,659 : INFO : PROGRESS: at 61.50% examples, 469144 words/s, in_qsize 16, out_qsize 1\n",
      "2017-10-21 10:01:32,664 : INFO : PROGRESS: at 61.62% examples, 468822 words/s, in_qsize 14, out_qsize 1\n",
      "2017-10-21 10:01:33,713 : INFO : PROGRESS: at 61.74% examples, 468449 words/s, in_qsize 15, out_qsize 0\n",
      "2017-10-21 10:01:34,763 : INFO : PROGRESS: at 61.84% examples, 467950 words/s, in_qsize 16, out_qsize 1\n",
      "2017-10-21 10:01:35,836 : INFO : PROGRESS: at 61.93% examples, 467376 words/s, in_qsize 15, out_qsize 0\n",
      "2017-10-21 10:01:36,876 : INFO : PROGRESS: at 62.01% examples, 466769 words/s, in_qsize 15, out_qsize 0\n",
      "2017-10-21 10:01:37,987 : INFO : PROGRESS: at 62.13% examples, 466358 words/s, in_qsize 11, out_qsize 5\n",
      "2017-10-21 10:01:39,023 : INFO : PROGRESS: at 62.28% examples, 466261 words/s, in_qsize 15, out_qsize 0\n",
      "2017-10-21 10:01:40,023 : INFO : PROGRESS: at 62.41% examples, 466033 words/s, in_qsize 14, out_qsize 1\n",
      "2017-10-21 10:01:41,054 : INFO : PROGRESS: at 62.57% examples, 465995 words/s, in_qsize 15, out_qsize 0\n",
      "2017-10-21 10:01:42,105 : INFO : PROGRESS: at 62.73% examples, 465932 words/s, in_qsize 15, out_qsize 0\n",
      "2017-10-21 10:01:43,134 : INFO : PROGRESS: at 62.89% examples, 465944 words/s, in_qsize 15, out_qsize 0\n",
      "2017-10-21 10:01:44,155 : INFO : PROGRESS: at 63.03% examples, 465769 words/s, in_qsize 15, out_qsize 1\n",
      "2017-10-21 10:01:45,176 : INFO : PROGRESS: at 63.19% examples, 465791 words/s, in_qsize 15, out_qsize 0\n",
      "2017-10-21 10:01:46,235 : INFO : PROGRESS: at 63.35% examples, 465721 words/s, in_qsize 15, out_qsize 0\n",
      "2017-10-21 10:01:47,243 : INFO : PROGRESS: at 63.50% examples, 465709 words/s, in_qsize 15, out_qsize 0\n",
      "2017-10-21 10:01:48,250 : INFO : PROGRESS: at 63.62% examples, 465406 words/s, in_qsize 15, out_qsize 0\n",
      "2017-10-21 10:01:49,276 : INFO : PROGRESS: at 63.77% examples, 465326 words/s, in_qsize 16, out_qsize 2\n",
      "2017-10-21 10:01:50,277 : INFO : PROGRESS: at 63.93% examples, 465372 words/s, in_qsize 15, out_qsize 0\n",
      "2017-10-21 10:01:51,280 : INFO : PROGRESS: at 64.06% examples, 465148 words/s, in_qsize 15, out_qsize 0\n",
      "2017-10-21 10:01:52,281 : INFO : PROGRESS: at 64.22% examples, 465170 words/s, in_qsize 15, out_qsize 0\n",
      "2017-10-21 10:01:53,295 : INFO : PROGRESS: at 64.36% examples, 465033 words/s, in_qsize 15, out_qsize 0\n",
      "2017-10-21 10:01:54,315 : INFO : PROGRESS: at 64.51% examples, 464938 words/s, in_qsize 15, out_qsize 0\n",
      "2017-10-21 10:01:55,337 : INFO : PROGRESS: at 64.64% examples, 464768 words/s, in_qsize 15, out_qsize 0\n",
      "2017-10-21 10:01:56,358 : INFO : PROGRESS: at 64.79% examples, 464648 words/s, in_qsize 15, out_qsize 0\n",
      "2017-10-21 10:01:57,358 : INFO : PROGRESS: at 64.93% examples, 464577 words/s, in_qsize 16, out_qsize 1\n",
      "2017-10-21 10:01:58,413 : INFO : PROGRESS: at 65.07% examples, 464398 words/s, in_qsize 15, out_qsize 3\n",
      "2017-10-21 10:01:59,436 : INFO : PROGRESS: at 65.23% examples, 464350 words/s, in_qsize 15, out_qsize 0\n",
      "2017-10-21 10:02:00,455 : INFO : PROGRESS: at 65.38% examples, 464305 words/s, in_qsize 15, out_qsize 0\n",
      "2017-10-21 10:02:01,471 : INFO : PROGRESS: at 65.53% examples, 464242 words/s, in_qsize 15, out_qsize 0\n",
      "2017-10-21 10:02:02,490 : INFO : PROGRESS: at 65.67% examples, 464103 words/s, in_qsize 14, out_qsize 1\n"
     ]
    },
    {
     "name": "stderr",
     "output_type": "stream",
     "text": [
      "2017-10-21 10:02:03,506 : INFO : PROGRESS: at 65.84% examples, 464135 words/s, in_qsize 15, out_qsize 0\n",
      "2017-10-21 10:02:04,526 : INFO : PROGRESS: at 66.00% examples, 464161 words/s, in_qsize 14, out_qsize 1\n",
      "2017-10-21 10:02:05,532 : INFO : PROGRESS: at 66.14% examples, 464086 words/s, in_qsize 15, out_qsize 0\n",
      "2017-10-21 10:02:06,585 : INFO : PROGRESS: at 66.30% examples, 464029 words/s, in_qsize 15, out_qsize 0\n",
      "2017-10-21 10:02:07,592 : INFO : PROGRESS: at 66.46% examples, 464046 words/s, in_qsize 15, out_qsize 0\n",
      "2017-10-21 10:02:08,600 : INFO : PROGRESS: at 66.62% examples, 464039 words/s, in_qsize 16, out_qsize 0\n",
      "2017-10-21 10:02:09,680 : INFO : PROGRESS: at 66.78% examples, 464000 words/s, in_qsize 16, out_qsize 3\n",
      "2017-10-21 10:02:10,700 : INFO : PROGRESS: at 66.93% examples, 463933 words/s, in_qsize 14, out_qsize 1\n",
      "2017-10-21 10:02:11,715 : INFO : PROGRESS: at 67.10% examples, 464011 words/s, in_qsize 14, out_qsize 1\n",
      "2017-10-21 10:02:12,812 : INFO : PROGRESS: at 67.25% examples, 463862 words/s, in_qsize 15, out_qsize 0\n",
      "2017-10-21 10:02:13,828 : INFO : PROGRESS: at 67.42% examples, 463916 words/s, in_qsize 15, out_qsize 0\n",
      "2017-10-21 10:02:14,850 : INFO : PROGRESS: at 67.56% examples, 463802 words/s, in_qsize 15, out_qsize 0\n",
      "2017-10-21 10:02:15,856 : INFO : PROGRESS: at 67.72% examples, 463822 words/s, in_qsize 15, out_qsize 0\n",
      "2017-10-21 10:02:16,863 : INFO : PROGRESS: at 67.86% examples, 463657 words/s, in_qsize 14, out_qsize 1\n",
      "2017-10-21 10:02:17,915 : INFO : PROGRESS: at 68.02% examples, 463650 words/s, in_qsize 16, out_qsize 0\n",
      "2017-10-21 10:02:18,975 : INFO : PROGRESS: at 68.18% examples, 463634 words/s, in_qsize 13, out_qsize 2\n",
      "2017-10-21 10:02:20,042 : INFO : PROGRESS: at 68.35% examples, 463610 words/s, in_qsize 14, out_qsize 1\n",
      "2017-10-21 10:02:21,047 : INFO : PROGRESS: at 68.50% examples, 463607 words/s, in_qsize 13, out_qsize 3\n",
      "2017-10-21 10:02:22,055 : INFO : PROGRESS: at 68.67% examples, 463646 words/s, in_qsize 16, out_qsize 0\n",
      "2017-10-21 10:02:23,105 : INFO : PROGRESS: at 68.82% examples, 463596 words/s, in_qsize 12, out_qsize 5\n",
      "2017-10-21 10:02:24,166 : INFO : PROGRESS: at 68.98% examples, 463512 words/s, in_qsize 10, out_qsize 5\n",
      "2017-10-21 10:02:25,181 : INFO : PROGRESS: at 69.14% examples, 463544 words/s, in_qsize 15, out_qsize 0\n",
      "2017-10-21 10:02:26,182 : INFO : PROGRESS: at 69.31% examples, 463635 words/s, in_qsize 15, out_qsize 0\n",
      "2017-10-21 10:02:27,201 : INFO : PROGRESS: at 69.45% examples, 463528 words/s, in_qsize 16, out_qsize 1\n",
      "2017-10-21 10:02:28,224 : INFO : PROGRESS: at 69.61% examples, 463485 words/s, in_qsize 15, out_qsize 0\n",
      "2017-10-21 10:02:29,245 : INFO : PROGRESS: at 69.78% examples, 463532 words/s, in_qsize 15, out_qsize 0\n",
      "2017-10-21 10:02:30,316 : INFO : PROGRESS: at 69.94% examples, 463528 words/s, in_qsize 15, out_qsize 0\n",
      "2017-10-21 10:02:31,343 : INFO : PROGRESS: at 70.08% examples, 463413 words/s, in_qsize 15, out_qsize 0\n",
      "2017-10-21 10:02:32,344 : INFO : PROGRESS: at 70.25% examples, 463482 words/s, in_qsize 14, out_qsize 1\n",
      "2017-10-21 10:02:33,364 : INFO : PROGRESS: at 70.41% examples, 463466 words/s, in_qsize 16, out_qsize 0\n",
      "2017-10-21 10:02:34,373 : INFO : PROGRESS: at 70.57% examples, 463481 words/s, in_qsize 16, out_qsize 0\n",
      "2017-10-21 10:02:35,411 : INFO : PROGRESS: at 70.72% examples, 463422 words/s, in_qsize 16, out_qsize 0\n",
      "2017-10-21 10:02:36,418 : INFO : PROGRESS: at 70.88% examples, 463440 words/s, in_qsize 16, out_qsize 0\n",
      "2017-10-21 10:02:37,433 : INFO : PROGRESS: at 71.04% examples, 463427 words/s, in_qsize 15, out_qsize 0\n",
      "2017-10-21 10:02:38,440 : INFO : PROGRESS: at 71.18% examples, 463314 words/s, in_qsize 15, out_qsize 0\n",
      "2017-10-21 10:02:39,457 : INFO : PROGRESS: at 71.35% examples, 463366 words/s, in_qsize 15, out_qsize 0\n",
      "2017-10-21 10:02:40,461 : INFO : PROGRESS: at 71.49% examples, 463300 words/s, in_qsize 13, out_qsize 2\n",
      "2017-10-21 10:02:41,471 : INFO : PROGRESS: at 71.64% examples, 463228 words/s, in_qsize 15, out_qsize 0\n",
      "2017-10-21 10:02:42,476 : INFO : PROGRESS: at 71.80% examples, 463248 words/s, in_qsize 13, out_qsize 2\n",
      "2017-10-21 10:02:43,479 : INFO : PROGRESS: at 71.96% examples, 463291 words/s, in_qsize 15, out_qsize 0\n",
      "2017-10-21 10:02:44,481 : INFO : PROGRESS: at 72.12% examples, 463292 words/s, in_qsize 12, out_qsize 3\n",
      "2017-10-21 10:02:45,517 : INFO : PROGRESS: at 72.27% examples, 463237 words/s, in_qsize 15, out_qsize 0\n",
      "2017-10-21 10:02:46,538 : INFO : PROGRESS: at 72.43% examples, 463220 words/s, in_qsize 15, out_qsize 0\n",
      "2017-10-21 10:02:47,552 : INFO : PROGRESS: at 72.60% examples, 463294 words/s, in_qsize 16, out_qsize 0\n",
      "2017-10-21 10:02:48,554 : INFO : PROGRESS: at 72.75% examples, 463231 words/s, in_qsize 15, out_qsize 0\n",
      "2017-10-21 10:02:49,594 : INFO : PROGRESS: at 72.90% examples, 463194 words/s, in_qsize 15, out_qsize 0\n",
      "2017-10-21 10:02:50,645 : INFO : PROGRESS: at 73.07% examples, 463191 words/s, in_qsize 15, out_qsize 0\n",
      "2017-10-21 10:02:51,645 : INFO : PROGRESS: at 73.23% examples, 463215 words/s, in_qsize 15, out_qsize 0\n",
      "2017-10-21 10:02:52,660 : INFO : PROGRESS: at 73.38% examples, 463161 words/s, in_qsize 13, out_qsize 2\n",
      "2017-10-21 10:02:53,670 : INFO : PROGRESS: at 73.54% examples, 463197 words/s, in_qsize 15, out_qsize 0\n",
      "2017-10-21 10:02:54,687 : INFO : PROGRESS: at 73.69% examples, 463142 words/s, in_qsize 15, out_qsize 0\n",
      "2017-10-21 10:02:55,687 : INFO : PROGRESS: at 73.85% examples, 463124 words/s, in_qsize 15, out_qsize 0\n",
      "2017-10-21 10:02:56,693 : INFO : PROGRESS: at 74.00% examples, 463080 words/s, in_qsize 15, out_qsize 0\n",
      "2017-10-21 10:02:57,697 : INFO : PROGRESS: at 74.14% examples, 463017 words/s, in_qsize 15, out_qsize 1\n",
      "2017-10-21 10:02:58,700 : INFO : PROGRESS: at 74.31% examples, 463079 words/s, in_qsize 15, out_qsize 0\n",
      "2017-10-21 10:02:59,782 : INFO : PROGRESS: at 74.47% examples, 463003 words/s, in_qsize 16, out_qsize 3\n",
      "2017-10-21 10:03:00,801 : INFO : PROGRESS: at 74.62% examples, 463009 words/s, in_qsize 16, out_qsize 3\n",
      "2017-10-21 10:03:01,820 : INFO : PROGRESS: at 74.80% examples, 463077 words/s, in_qsize 15, out_qsize 0\n",
      "2017-10-21 10:03:02,824 : INFO : PROGRESS: at 74.94% examples, 463015 words/s, in_qsize 14, out_qsize 1\n",
      "2017-10-21 10:03:03,871 : INFO : PROGRESS: at 75.10% examples, 462994 words/s, in_qsize 15, out_qsize 0\n",
      "2017-10-21 10:03:04,896 : INFO : PROGRESS: at 75.26% examples, 462953 words/s, in_qsize 16, out_qsize 0\n",
      "2017-10-21 10:03:05,905 : INFO : PROGRESS: at 75.42% examples, 463009 words/s, in_qsize 15, out_qsize 0\n",
      "2017-10-21 10:03:06,909 : INFO : PROGRESS: at 75.58% examples, 463009 words/s, in_qsize 15, out_qsize 0\n",
      "2017-10-21 10:03:07,923 : INFO : PROGRESS: at 75.72% examples, 462918 words/s, in_qsize 15, out_qsize 0\n",
      "2017-10-21 10:03:08,948 : INFO : PROGRESS: at 75.90% examples, 463000 words/s, in_qsize 13, out_qsize 2\n",
      "2017-10-21 10:03:09,974 : INFO : PROGRESS: at 76.05% examples, 462979 words/s, in_qsize 13, out_qsize 2\n",
      "2017-10-21 10:03:11,001 : INFO : PROGRESS: at 76.21% examples, 462957 words/s, in_qsize 13, out_qsize 2\n",
      "2017-10-21 10:03:12,009 : INFO : PROGRESS: at 76.37% examples, 462953 words/s, in_qsize 13, out_qsize 2\n",
      "2017-10-21 10:03:13,065 : INFO : PROGRESS: at 76.53% examples, 462944 words/s, in_qsize 15, out_qsize 0\n",
      "2017-10-21 10:03:14,092 : INFO : PROGRESS: at 76.69% examples, 462922 words/s, in_qsize 14, out_qsize 1\n",
      "2017-10-21 10:03:15,116 : INFO : PROGRESS: at 76.83% examples, 462823 words/s, in_qsize 15, out_qsize 0\n",
      "2017-10-21 10:03:16,176 : INFO : PROGRESS: at 76.96% examples, 462609 words/s, in_qsize 15, out_qsize 0\n",
      "2017-10-21 10:03:17,215 : INFO : PROGRESS: at 77.08% examples, 462358 words/s, in_qsize 14, out_qsize 1\n",
      "2017-10-21 10:03:18,221 : INFO : PROGRESS: at 77.23% examples, 462296 words/s, in_qsize 15, out_qsize 0\n",
      "2017-10-21 10:03:19,235 : INFO : PROGRESS: at 77.37% examples, 462229 words/s, in_qsize 14, out_qsize 1\n",
      "2017-10-21 10:03:20,238 : INFO : PROGRESS: at 77.52% examples, 462191 words/s, in_qsize 15, out_qsize 0\n",
      "2017-10-21 10:03:21,267 : INFO : PROGRESS: at 77.68% examples, 462189 words/s, in_qsize 15, out_qsize 0\n",
      "2017-10-21 10:03:22,283 : INFO : PROGRESS: at 77.86% examples, 462298 words/s, in_qsize 15, out_qsize 0\n"
     ]
    },
    {
     "name": "stderr",
     "output_type": "stream",
     "text": [
      "2017-10-21 10:03:23,389 : INFO : PROGRESS: at 78.02% examples, 462225 words/s, in_qsize 16, out_qsize 1\n",
      "2017-10-21 10:03:24,393 : INFO : PROGRESS: at 78.16% examples, 462148 words/s, in_qsize 16, out_qsize 0\n",
      "2017-10-21 10:03:25,406 : INFO : PROGRESS: at 78.32% examples, 462122 words/s, in_qsize 16, out_qsize 1\n",
      "2017-10-21 10:03:26,406 : INFO : PROGRESS: at 78.48% examples, 462166 words/s, in_qsize 15, out_qsize 0\n",
      "2017-10-21 10:03:27,424 : INFO : PROGRESS: at 78.64% examples, 462154 words/s, in_qsize 16, out_qsize 0\n",
      "2017-10-21 10:03:28,426 : INFO : PROGRESS: at 78.79% examples, 462118 words/s, in_qsize 16, out_qsize 0\n",
      "2017-10-21 10:03:29,462 : INFO : PROGRESS: at 78.95% examples, 462091 words/s, in_qsize 16, out_qsize 4\n",
      "2017-10-21 10:03:30,472 : INFO : PROGRESS: at 79.10% examples, 462087 words/s, in_qsize 15, out_qsize 0\n",
      "2017-10-21 10:03:31,532 : INFO : PROGRESS: at 79.26% examples, 462038 words/s, in_qsize 15, out_qsize 0\n",
      "2017-10-21 10:03:32,557 : INFO : PROGRESS: at 79.42% examples, 462039 words/s, in_qsize 15, out_qsize 0\n",
      "2017-10-21 10:03:33,572 : INFO : PROGRESS: at 79.59% examples, 462090 words/s, in_qsize 16, out_qsize 0\n",
      "2017-10-21 10:03:34,624 : INFO : PROGRESS: at 79.74% examples, 462029 words/s, in_qsize 16, out_qsize 1\n",
      "2017-10-21 10:03:35,647 : INFO : PROGRESS: at 79.91% examples, 462071 words/s, in_qsize 15, out_qsize 0\n",
      "2017-10-21 10:03:36,665 : INFO : PROGRESS: at 80.06% examples, 462021 words/s, in_qsize 15, out_qsize 0\n",
      "2017-10-21 10:03:37,700 : INFO : PROGRESS: at 80.22% examples, 462053 words/s, in_qsize 15, out_qsize 0\n",
      "2017-10-21 10:03:38,756 : INFO : PROGRESS: at 80.38% examples, 461988 words/s, in_qsize 15, out_qsize 0\n",
      "2017-10-21 10:03:39,767 : INFO : PROGRESS: at 80.54% examples, 462041 words/s, in_qsize 15, out_qsize 0\n",
      "2017-10-21 10:03:40,842 : INFO : PROGRESS: at 80.71% examples, 462018 words/s, in_qsize 14, out_qsize 1\n",
      "2017-10-21 10:03:41,895 : INFO : PROGRESS: at 80.87% examples, 461975 words/s, in_qsize 12, out_qsize 3\n",
      "2017-10-21 10:03:42,993 : INFO : PROGRESS: at 81.03% examples, 461952 words/s, in_qsize 15, out_qsize 0\n",
      "2017-10-21 10:03:44,000 : INFO : PROGRESS: at 81.20% examples, 462046 words/s, in_qsize 15, out_qsize 1\n",
      "2017-10-21 10:03:45,026 : INFO : PROGRESS: at 81.36% examples, 462009 words/s, in_qsize 15, out_qsize 0\n",
      "2017-10-21 10:03:46,036 : INFO : PROGRESS: at 81.51% examples, 462006 words/s, in_qsize 15, out_qsize 0\n",
      "2017-10-21 10:03:47,040 : INFO : PROGRESS: at 81.66% examples, 461951 words/s, in_qsize 15, out_qsize 1\n",
      "2017-10-21 10:03:48,057 : INFO : PROGRESS: at 81.82% examples, 461940 words/s, in_qsize 15, out_qsize 0\n",
      "2017-10-21 10:03:49,064 : INFO : PROGRESS: at 81.96% examples, 461845 words/s, in_qsize 15, out_qsize 0\n",
      "2017-10-21 10:03:50,081 : INFO : PROGRESS: at 82.12% examples, 461855 words/s, in_qsize 14, out_qsize 1\n",
      "2017-10-21 10:03:51,098 : INFO : PROGRESS: at 82.28% examples, 461902 words/s, in_qsize 13, out_qsize 2\n",
      "2017-10-21 10:03:52,101 : INFO : PROGRESS: at 82.44% examples, 461904 words/s, in_qsize 15, out_qsize 0\n",
      "2017-10-21 10:03:53,152 : INFO : PROGRESS: at 82.58% examples, 461791 words/s, in_qsize 14, out_qsize 1\n",
      "2017-10-21 10:03:54,157 : INFO : PROGRESS: at 82.74% examples, 461773 words/s, in_qsize 16, out_qsize 3\n",
      "2017-10-21 10:03:55,172 : INFO : PROGRESS: at 82.91% examples, 461822 words/s, in_qsize 16, out_qsize 0\n",
      "2017-10-21 10:03:56,175 : INFO : PROGRESS: at 83.05% examples, 461732 words/s, in_qsize 16, out_qsize 0\n",
      "2017-10-21 10:03:57,184 : INFO : PROGRESS: at 83.21% examples, 461748 words/s, in_qsize 16, out_qsize 1\n",
      "2017-10-21 10:03:58,237 : INFO : PROGRESS: at 83.36% examples, 461671 words/s, in_qsize 15, out_qsize 0\n",
      "2017-10-21 10:03:59,238 : INFO : PROGRESS: at 83.53% examples, 461768 words/s, in_qsize 15, out_qsize 0\n",
      "2017-10-21 10:04:00,258 : INFO : PROGRESS: at 83.66% examples, 461628 words/s, in_qsize 12, out_qsize 3\n",
      "2017-10-21 10:04:01,272 : INFO : PROGRESS: at 83.83% examples, 461677 words/s, in_qsize 16, out_qsize 1\n",
      "2017-10-21 10:04:02,345 : INFO : PROGRESS: at 83.98% examples, 461602 words/s, in_qsize 14, out_qsize 1\n",
      "2017-10-21 10:04:03,357 : INFO : PROGRESS: at 84.14% examples, 461579 words/s, in_qsize 15, out_qsize 0\n",
      "2017-10-21 10:04:04,375 : INFO : PROGRESS: at 84.30% examples, 461588 words/s, in_qsize 14, out_qsize 1\n",
      "2017-10-21 10:04:05,426 : INFO : PROGRESS: at 84.45% examples, 461514 words/s, in_qsize 15, out_qsize 0\n",
      "2017-10-21 10:04:06,441 : INFO : PROGRESS: at 84.58% examples, 461398 words/s, in_qsize 15, out_qsize 0\n",
      "2017-10-21 10:04:07,483 : INFO : PROGRESS: at 84.73% examples, 461314 words/s, in_qsize 15, out_qsize 0\n",
      "2017-10-21 10:04:08,501 : INFO : PROGRESS: at 84.87% examples, 461232 words/s, in_qsize 15, out_qsize 0\n",
      "2017-10-21 10:04:09,520 : INFO : PROGRESS: at 85.02% examples, 461168 words/s, in_qsize 10, out_qsize 5\n",
      "2017-10-21 10:04:10,549 : INFO : PROGRESS: at 85.17% examples, 461132 words/s, in_qsize 15, out_qsize 0\n",
      "2017-10-21 10:04:11,570 : INFO : PROGRESS: at 85.30% examples, 460977 words/s, in_qsize 15, out_qsize 0\n",
      "2017-10-21 10:04:12,606 : INFO : PROGRESS: at 85.46% examples, 460935 words/s, in_qsize 16, out_qsize 3\n",
      "2017-10-21 10:04:13,610 : INFO : PROGRESS: at 85.61% examples, 460921 words/s, in_qsize 15, out_qsize 0\n",
      "2017-10-21 10:04:14,627 : INFO : PROGRESS: at 85.75% examples, 460806 words/s, in_qsize 16, out_qsize 0\n",
      "2017-10-21 10:04:15,657 : INFO : PROGRESS: at 85.91% examples, 460806 words/s, in_qsize 14, out_qsize 1\n",
      "2017-10-21 10:04:16,658 : INFO : PROGRESS: at 86.08% examples, 460884 words/s, in_qsize 15, out_qsize 0\n",
      "2017-10-21 10:04:17,774 : INFO : PROGRESS: at 86.23% examples, 460759 words/s, in_qsize 16, out_qsize 0\n",
      "2017-10-21 10:04:18,786 : INFO : PROGRESS: at 86.40% examples, 460863 words/s, in_qsize 15, out_qsize 0\n",
      "2017-10-21 10:04:19,836 : INFO : PROGRESS: at 86.55% examples, 460776 words/s, in_qsize 14, out_qsize 1\n",
      "2017-10-21 10:04:20,876 : INFO : PROGRESS: at 86.72% examples, 460803 words/s, in_qsize 15, out_qsize 0\n",
      "2017-10-21 10:04:21,900 : INFO : PROGRESS: at 86.87% examples, 460755 words/s, in_qsize 15, out_qsize 0\n",
      "2017-10-21 10:04:22,903 : INFO : PROGRESS: at 87.03% examples, 460777 words/s, in_qsize 16, out_qsize 0\n",
      "2017-10-21 10:04:23,905 : INFO : PROGRESS: at 87.18% examples, 460765 words/s, in_qsize 15, out_qsize 0\n",
      "2017-10-21 10:04:24,910 : INFO : PROGRESS: at 87.32% examples, 460680 words/s, in_qsize 15, out_qsize 0\n",
      "2017-10-21 10:04:25,913 : INFO : PROGRESS: at 87.49% examples, 460719 words/s, in_qsize 13, out_qsize 2\n",
      "2017-10-21 10:04:26,918 : INFO : PROGRESS: at 87.65% examples, 460741 words/s, in_qsize 15, out_qsize 0\n",
      "2017-10-21 10:04:27,931 : INFO : PROGRESS: at 87.81% examples, 460754 words/s, in_qsize 15, out_qsize 0\n",
      "2017-10-21 10:04:28,932 : INFO : PROGRESS: at 87.95% examples, 460673 words/s, in_qsize 14, out_qsize 1\n",
      "2017-10-21 10:04:29,946 : INFO : PROGRESS: at 88.12% examples, 460756 words/s, in_qsize 15, out_qsize 0\n",
      "2017-10-21 10:04:30,978 : INFO : PROGRESS: at 88.26% examples, 460667 words/s, in_qsize 15, out_qsize 3\n",
      "2017-10-21 10:04:32,033 : INFO : PROGRESS: at 88.42% examples, 460647 words/s, in_qsize 12, out_qsize 5\n",
      "2017-10-21 10:04:33,041 : INFO : PROGRESS: at 88.59% examples, 460700 words/s, in_qsize 15, out_qsize 0\n",
      "2017-10-21 10:04:34,048 : INFO : PROGRESS: at 88.75% examples, 460701 words/s, in_qsize 13, out_qsize 4\n",
      "2017-10-21 10:04:35,100 : INFO : PROGRESS: at 88.91% examples, 460685 words/s, in_qsize 13, out_qsize 2\n",
      "2017-10-21 10:04:36,113 : INFO : PROGRESS: at 89.07% examples, 460699 words/s, in_qsize 15, out_qsize 0\n",
      "2017-10-21 10:04:37,115 : INFO : PROGRESS: at 89.22% examples, 460704 words/s, in_qsize 16, out_qsize 0\n",
      "2017-10-21 10:04:38,131 : INFO : PROGRESS: at 89.38% examples, 460681 words/s, in_qsize 14, out_qsize 1\n",
      "2017-10-21 10:04:39,142 : INFO : PROGRESS: at 89.53% examples, 460679 words/s, in_qsize 15, out_qsize 0\n",
      "2017-10-21 10:04:40,149 : INFO : PROGRESS: at 89.69% examples, 460663 words/s, in_qsize 12, out_qsize 2\n",
      "2017-10-21 10:04:41,180 : INFO : PROGRESS: at 89.85% examples, 460680 words/s, in_qsize 16, out_qsize 0\n",
      "2017-10-21 10:04:42,202 : INFO : PROGRESS: at 90.02% examples, 460703 words/s, in_qsize 16, out_qsize 1\n"
     ]
    },
    {
     "name": "stderr",
     "output_type": "stream",
     "text": [
      "2017-10-21 10:04:43,231 : INFO : PROGRESS: at 90.17% examples, 460670 words/s, in_qsize 15, out_qsize 0\n",
      "2017-10-21 10:04:44,232 : INFO : PROGRESS: at 90.32% examples, 460659 words/s, in_qsize 15, out_qsize 0\n",
      "2017-10-21 10:04:45,259 : INFO : PROGRESS: at 90.49% examples, 460713 words/s, in_qsize 15, out_qsize 0\n",
      "2017-10-21 10:04:46,347 : INFO : PROGRESS: at 90.64% examples, 460617 words/s, in_qsize 12, out_qsize 3\n",
      "2017-10-21 10:04:47,360 : INFO : PROGRESS: at 90.79% examples, 460562 words/s, in_qsize 15, out_qsize 3\n",
      "2017-10-21 10:04:48,395 : INFO : PROGRESS: at 90.96% examples, 460626 words/s, in_qsize 15, out_qsize 0\n",
      "2017-10-21 10:04:49,448 : INFO : PROGRESS: at 91.10% examples, 460491 words/s, in_qsize 13, out_qsize 2\n",
      "2017-10-21 10:04:50,479 : INFO : PROGRESS: at 91.27% examples, 460540 words/s, in_qsize 15, out_qsize 0\n",
      "2017-10-21 10:04:51,493 : INFO : PROGRESS: at 91.42% examples, 460503 words/s, in_qsize 15, out_qsize 0\n",
      "2017-10-21 10:04:52,519 : INFO : PROGRESS: at 91.57% examples, 460440 words/s, in_qsize 14, out_qsize 3\n",
      "2017-10-21 10:04:53,524 : INFO : PROGRESS: at 91.73% examples, 460460 words/s, in_qsize 14, out_qsize 1\n",
      "2017-10-21 10:04:54,554 : INFO : PROGRESS: at 91.89% examples, 460494 words/s, in_qsize 15, out_qsize 0\n",
      "2017-10-21 10:04:55,582 : INFO : PROGRESS: at 92.06% examples, 460530 words/s, in_qsize 15, out_qsize 0\n",
      "2017-10-21 10:04:56,600 : INFO : PROGRESS: at 92.21% examples, 460473 words/s, in_qsize 15, out_qsize 0\n",
      "2017-10-21 10:04:57,651 : INFO : PROGRESS: at 92.36% examples, 460441 words/s, in_qsize 15, out_qsize 0\n",
      "2017-10-21 10:04:58,695 : INFO : PROGRESS: at 92.53% examples, 460447 words/s, in_qsize 14, out_qsize 1\n",
      "2017-10-21 10:04:59,766 : INFO : PROGRESS: at 92.70% examples, 460465 words/s, in_qsize 13, out_qsize 2\n",
      "2017-10-21 10:05:00,806 : INFO : PROGRESS: at 92.85% examples, 460426 words/s, in_qsize 15, out_qsize 0\n",
      "2017-10-21 10:05:01,830 : INFO : PROGRESS: at 93.02% examples, 460464 words/s, in_qsize 15, out_qsize 0\n",
      "2017-10-21 10:05:02,832 : INFO : PROGRESS: at 93.18% examples, 460518 words/s, in_qsize 15, out_qsize 0\n",
      "2017-10-21 10:05:03,875 : INFO : PROGRESS: at 93.33% examples, 460443 words/s, in_qsize 12, out_qsize 3\n",
      "2017-10-21 10:05:04,875 : INFO : PROGRESS: at 93.49% examples, 460467 words/s, in_qsize 15, out_qsize 0\n",
      "2017-10-21 10:05:05,886 : INFO : PROGRESS: at 93.65% examples, 460498 words/s, in_qsize 15, out_qsize 0\n",
      "2017-10-21 10:05:06,947 : INFO : PROGRESS: at 93.80% examples, 460394 words/s, in_qsize 14, out_qsize 4\n",
      "2017-10-21 10:05:07,966 : INFO : PROGRESS: at 93.96% examples, 460403 words/s, in_qsize 14, out_qsize 3\n",
      "2017-10-21 10:05:09,006 : INFO : PROGRESS: at 94.13% examples, 460444 words/s, in_qsize 15, out_qsize 0\n",
      "2017-10-21 10:05:10,059 : INFO : PROGRESS: at 94.28% examples, 460363 words/s, in_qsize 14, out_qsize 3\n",
      "2017-10-21 10:05:11,134 : INFO : PROGRESS: at 94.43% examples, 460313 words/s, in_qsize 15, out_qsize 0\n",
      "2017-10-21 10:05:12,143 : INFO : PROGRESS: at 94.60% examples, 460395 words/s, in_qsize 15, out_qsize 0\n",
      "2017-10-21 10:05:13,158 : INFO : PROGRESS: at 94.75% examples, 460326 words/s, in_qsize 14, out_qsize 1\n",
      "2017-10-21 10:05:14,225 : INFO : PROGRESS: at 94.91% examples, 460315 words/s, in_qsize 15, out_qsize 0\n",
      "2017-10-21 10:05:15,237 : INFO : PROGRESS: at 95.06% examples, 460281 words/s, in_qsize 15, out_qsize 0\n",
      "2017-10-21 10:05:16,277 : INFO : PROGRESS: at 95.21% examples, 460210 words/s, in_qsize 16, out_qsize 1\n",
      "2017-10-21 10:05:17,294 : INFO : PROGRESS: at 95.34% examples, 460076 words/s, in_qsize 15, out_qsize 0\n",
      "2017-10-21 10:05:18,297 : INFO : PROGRESS: at 95.44% examples, 459824 words/s, in_qsize 16, out_qsize 0\n",
      "2017-10-21 10:05:19,302 : INFO : PROGRESS: at 95.60% examples, 459812 words/s, in_qsize 15, out_qsize 0\n",
      "2017-10-21 10:05:20,316 : INFO : PROGRESS: at 95.74% examples, 459761 words/s, in_qsize 15, out_qsize 0\n",
      "2017-10-21 10:05:21,323 : INFO : PROGRESS: at 95.89% examples, 459716 words/s, in_qsize 15, out_qsize 0\n",
      "2017-10-21 10:05:22,341 : INFO : PROGRESS: at 96.05% examples, 459743 words/s, in_qsize 14, out_qsize 1\n",
      "2017-10-21 10:05:23,369 : INFO : PROGRESS: at 96.22% examples, 459778 words/s, in_qsize 14, out_qsize 1\n",
      "2017-10-21 10:05:24,396 : INFO : PROGRESS: at 96.38% examples, 459797 words/s, in_qsize 15, out_qsize 0\n",
      "2017-10-21 10:05:25,449 : INFO : PROGRESS: at 96.53% examples, 459703 words/s, in_qsize 15, out_qsize 0\n",
      "2017-10-21 10:05:26,451 : INFO : PROGRESS: at 96.69% examples, 459757 words/s, in_qsize 15, out_qsize 0\n",
      "2017-10-21 10:05:27,524 : INFO : PROGRESS: at 96.84% examples, 459664 words/s, in_qsize 15, out_qsize 0\n",
      "2017-10-21 10:05:28,526 : INFO : PROGRESS: at 97.00% examples, 459703 words/s, in_qsize 15, out_qsize 0\n",
      "2017-10-21 10:05:29,590 : INFO : PROGRESS: at 97.16% examples, 459664 words/s, in_qsize 15, out_qsize 0\n",
      "2017-10-21 10:05:30,606 : INFO : PROGRESS: at 97.33% examples, 459723 words/s, in_qsize 15, out_qsize 0\n",
      "2017-10-21 10:05:31,655 : INFO : PROGRESS: at 97.49% examples, 459695 words/s, in_qsize 13, out_qsize 2\n",
      "2017-10-21 10:05:32,664 : INFO : PROGRESS: at 97.64% examples, 459696 words/s, in_qsize 15, out_qsize 0\n",
      "2017-10-21 10:05:33,695 : INFO : PROGRESS: at 97.78% examples, 459588 words/s, in_qsize 14, out_qsize 3\n",
      "2017-10-21 10:05:34,743 : INFO : PROGRESS: at 97.95% examples, 459639 words/s, in_qsize 13, out_qsize 2\n",
      "2017-10-21 10:05:35,765 : INFO : PROGRESS: at 98.12% examples, 459663 words/s, in_qsize 15, out_qsize 0\n",
      "2017-10-21 10:05:36,802 : INFO : PROGRESS: at 98.26% examples, 459597 words/s, in_qsize 11, out_qsize 4\n",
      "2017-10-21 10:05:37,803 : INFO : PROGRESS: at 98.44% examples, 459682 words/s, in_qsize 15, out_qsize 0\n",
      "2017-10-21 10:05:38,805 : INFO : PROGRESS: at 98.59% examples, 459673 words/s, in_qsize 14, out_qsize 1\n",
      "2017-10-21 10:05:39,840 : INFO : PROGRESS: at 98.74% examples, 459594 words/s, in_qsize 12, out_qsize 3\n",
      "2017-10-21 10:05:40,864 : INFO : PROGRESS: at 98.90% examples, 459630 words/s, in_qsize 15, out_qsize 0\n",
      "2017-10-21 10:05:41,872 : INFO : PROGRESS: at 99.06% examples, 459633 words/s, in_qsize 15, out_qsize 0\n",
      "2017-10-21 10:05:42,905 : INFO : PROGRESS: at 99.22% examples, 459618 words/s, in_qsize 15, out_qsize 0\n",
      "2017-10-21 10:05:43,933 : INFO : PROGRESS: at 99.38% examples, 459651 words/s, in_qsize 15, out_qsize 0\n",
      "2017-10-21 10:05:44,982 : INFO : PROGRESS: at 99.54% examples, 459640 words/s, in_qsize 14, out_qsize 3\n",
      "2017-10-21 10:05:45,993 : INFO : PROGRESS: at 99.71% examples, 459686 words/s, in_qsize 16, out_qsize 0\n",
      "2017-10-21 10:05:47,016 : INFO : PROGRESS: at 99.85% examples, 459616 words/s, in_qsize 16, out_qsize 1\n",
      "2017-10-21 10:05:47,855 : INFO : worker thread finished; awaiting finish of 7 more threads\n",
      "2017-10-21 10:05:47,880 : INFO : worker thread finished; awaiting finish of 6 more threads\n",
      "2017-10-21 10:05:47,892 : INFO : worker thread finished; awaiting finish of 5 more threads\n",
      "2017-10-21 10:05:47,909 : INFO : worker thread finished; awaiting finish of 4 more threads\n",
      "2017-10-21 10:05:47,915 : INFO : worker thread finished; awaiting finish of 3 more threads\n",
      "2017-10-21 10:05:47,922 : INFO : worker thread finished; awaiting finish of 2 more threads\n",
      "2017-10-21 10:05:47,928 : INFO : worker thread finished; awaiting finish of 1 more threads\n",
      "2017-10-21 10:05:47,945 : INFO : worker thread finished; awaiting finish of 0 more threads\n",
      "2017-10-21 10:05:47,948 : INFO : training on 299586700 raw words (296390300 effective words) took 644.9s, 459626 effective words/s\n"
     ]
    }
   ],
   "source": [
    "# sg - skip gram |  window = size of the window | size = vector dimension\n",
    "size = 100\n",
    "window_size = 2 # sentences weren't too long, so\n",
    "epochs = 100\n",
    "min_count = 2\n",
    "workers = 4\n",
    "\n",
    "# train word2vec model using gensim\n",
    "model = Word2Vec(corpus, sg=1,window=window_size,size=size,\\\n",
    "                               min_count=min_count,workers=workers,iter=epochs,sample=0.01)"
   ]
  },
  {
   "cell_type": "markdown",
   "metadata": {},
   "source": [
    "If you want to extend training - also called online word2vec training"
   ]
  },
  {
   "cell_type": "code",
   "execution_count": 18,
   "metadata": {
    "collapsed": true,
    "scrolled": true
   },
   "outputs": [],
   "source": [
    "model.build_vocab(sentences=shuffle_corpus(corpus),update=True)\n",
    "\n",
    "for i in range(5):\n",
    "    model.train(sentences=shuffle_corpus(corpus),epochs=50,total_examples=model.corpus_count)"
   ]
  },
  {
   "cell_type": "markdown",
   "metadata": {},
   "source": [
    "Save word2vec model to load and use later"
   ]
  },
  {
   "cell_type": "code",
   "execution_count": 56,
   "metadata": {},
   "outputs": [
    {
     "name": "stderr",
     "output_type": "stream",
     "text": [
      "2017-10-21 10:06:19,395 : INFO : saving Word2Vec object under w2v_model, separately None\n",
      "2017-10-21 10:06:19,417 : INFO : not storing attribute syn0norm\n",
      "2017-10-21 10:06:19,423 : INFO : not storing attribute cum_table\n",
      "2017-10-21 10:06:19,919 : INFO : saved w2v_model\n"
     ]
    }
   ],
   "source": [
    "# save model\n",
    "model.save('w2v_model')"
   ]
  },
  {
   "cell_type": "markdown",
   "metadata": {},
   "source": [
    "Or load already saved word2vec model"
   ]
  },
  {
   "cell_type": "code",
   "execution_count": 58,
   "metadata": {},
   "outputs": [
    {
     "name": "stderr",
     "output_type": "stream",
     "text": [
      "2017-10-21 10:06:31,821 : INFO : loading Word2Vec object from w2v_model\n",
      "2017-10-21 10:06:32,086 : INFO : loading wv recursively from w2v_model.wv.* with mmap=None\n",
      "2017-10-21 10:06:32,086 : INFO : setting ignored attribute syn0norm to None\n",
      "2017-10-21 10:06:32,103 : INFO : setting ignored attribute cum_table to None\n",
      "2017-10-21 10:06:32,107 : INFO : loaded w2v_model\n"
     ]
    }
   ],
   "source": [
    "# load word2vec model\n",
    "model = Word2Vec.load('w2v_model')"
   ]
  },
  {
   "cell_type": "markdown",
   "metadata": {},
   "source": [
    "## Using the model"
   ]
  },
  {
   "cell_type": "markdown",
   "metadata": {},
   "source": [
    "Word2vec training is an unsupervised task, there’s no good way to objectively evaluate the result. Evaluation depends on your end application."
   ]
  },
  {
   "cell_type": "code",
   "execution_count": 92,
   "metadata": {},
   "outputs": [
    {
     "data": {
      "text/plain": [
       "[('queen', 0.7119250893592834)]"
      ]
     },
     "execution_count": 92,
     "metadata": {},
     "output_type": "execute_result"
    }
   ],
   "source": [
    "model.most_similar(positive=['woman', 'king'], negative=['man'], topn=1)"
   ]
  },
  {
   "cell_type": "code",
   "execution_count": 95,
   "metadata": {},
   "outputs": [
    {
     "data": {
      "text/plain": [
       "[('property', 0.5173135995864868)]"
      ]
     },
     "execution_count": 95,
     "metadata": {},
     "output_type": "execute_result"
    }
   ],
   "source": [
    "model.most_similar(positive=['hotel', 'room'], negative=['cafe'], topn=1)"
   ]
  },
  {
   "cell_type": "code",
   "execution_count": 96,
   "metadata": {},
   "outputs": [
    {
     "data": {
      "text/plain": [
       "[('delighted', 0.4968428611755371), ('pleased', 0.4967663884162903)]"
      ]
     },
     "execution_count": 96,
     "metadata": {},
     "output_type": "execute_result"
    }
   ],
   "source": [
    "model.most_similar(positive=['happy', 'sad'], negative=['annoy'], topn=2)"
   ]
  },
  {
   "cell_type": "markdown",
   "metadata": {},
   "source": [
    "### The results look very promising. Word2vec is pretty good in understanding the semantics. "
   ]
  },
  {
   "cell_type": "code",
   "execution_count": 80,
   "metadata": {},
   "outputs": [
    {
     "data": {
      "text/plain": [
       "'holiday'"
      ]
     },
     "execution_count": 80,
     "metadata": {},
     "output_type": "execute_result"
    }
   ],
   "source": [
    "model.doesnt_match('hotel nice clean holiday'.split())"
   ]
  },
  {
   "cell_type": "code",
   "execution_count": 99,
   "metadata": {},
   "outputs": [
    {
     "data": {
      "text/plain": [
       "'continental'"
      ]
     },
     "execution_count": 99,
     "metadata": {},
     "output_type": "execute_result"
    }
   ],
   "source": [
    "model.doesnt_match('breakfast dinner continental lunch'.split())"
   ]
  },
  {
   "cell_type": "code",
   "execution_count": 105,
   "metadata": {},
   "outputs": [
    {
     "data": {
      "text/plain": [
       "0.77515746728803325"
      ]
     },
     "execution_count": 105,
     "metadata": {},
     "output_type": "execute_result"
    }
   ],
   "source": [
    "model.similarity('dinner','lunch')"
   ]
  },
  {
   "cell_type": "code",
   "execution_count": 106,
   "metadata": {},
   "outputs": [
    {
     "data": {
      "text/plain": [
       "[('fantastic', 0.8479016423225403),\n",
       " ('excellent', 0.8270981311798096),\n",
       " ('wonderful', 0.7989335060119629),\n",
       " ('awesome', 0.7726607918739319),\n",
       " ('amazing', 0.7459379434585571),\n",
       " ('good', 0.7419600486755371),\n",
       " ('terrific', 0.7366918921470642),\n",
       " ('fabulous', 0.7290831804275513),\n",
       " ('incredible', 0.6833620071411133),\n",
       " ('perfect', 0.6754406094551086)]"
      ]
     },
     "execution_count": 106,
     "metadata": {},
     "output_type": "execute_result"
    }
   ],
   "source": [
    "model.most_similar('great')"
   ]
  },
  {
   "cell_type": "code",
   "execution_count": 108,
   "metadata": {},
   "outputs": [
    {
     "data": {
      "text/plain": [
       "[('comfy', 0.846420168876648),\n",
       " ('comftorable', 0.6946347951889038),\n",
       " ('confy', 0.6907272338867188),\n",
       " ('goodsize', 0.6500658988952637),\n",
       " ('cozy', 0.6455215215682983),\n",
       " ('comfi', 0.6436315774917603),\n",
       " ('spacious', 0.6404236555099487),\n",
       " ('modernly', 0.6295812129974365),\n",
       " ('ultracomfortable', 0.6291707158088684),\n",
       " ('comforatble', 0.6264324188232422)]"
      ]
     },
     "execution_count": 108,
     "metadata": {},
     "output_type": "execute_result"
    }
   ],
   "source": [
    "model.most_similar('comfortable')"
   ]
  },
  {
   "cell_type": "code",
   "execution_count": 109,
   "metadata": {},
   "outputs": [
    {
     "data": {
      "text/plain": [
       "[('highly_recommend', 0.8297330141067505),\n",
       " ('recomend', 0.8017210960388184),\n",
       " ('recommed', 0.7851127982139587),\n",
       " ('reccomend', 0.7745145559310913),\n",
       " ('suggest', 0.7575714588165283),\n",
       " ('reccommend', 0.7544815540313721),\n",
       " ('recommned', 0.7037972211837769),\n",
       " ('recommand', 0.6724419593811035),\n",
       " ('edited', 0.6539892554283142),\n",
       " ('hesistate', 0.63225257396698)]"
      ]
     },
     "execution_count": 109,
     "metadata": {},
     "output_type": "execute_result"
    }
   ],
   "source": [
    "model.most_similar('recommend')"
   ]
  },
  {
   "cell_type": "code",
   "execution_count": 111,
   "metadata": {},
   "outputs": [
    {
     "data": {
      "text/plain": [
       "[('dc', 0.7707709670066833),\n",
       " ('seattle', 0.7631182670593262),\n",
       " ('chicago', 0.736762523651123),\n",
       " ('san_fran', 0.7224879264831543),\n",
       " ('san_francisco', 0.7217927575111389),\n",
       " ('philly', 0.7175568342208862),\n",
       " ('san_diego', 0.7092623710632324),\n",
       " ('sf', 0.6956394910812378),\n",
       " ('charlotte', 0.6925041675567627),\n",
       " ('nyc', 0.6882145404815674)]"
      ]
     },
     "execution_count": 111,
     "metadata": {},
     "output_type": "execute_result"
    }
   ],
   "source": [
    "model.most_similar('boston')"
   ]
  }
 ],
 "metadata": {
  "kernelspec": {
   "display_name": "Python 3",
   "language": "python",
   "name": "python3"
  },
  "language_info": {
   "codemirror_mode": {
    "name": "ipython",
    "version": 3
   },
   "file_extension": ".py",
   "mimetype": "text/x-python",
   "name": "python",
   "nbconvert_exporter": "python",
   "pygments_lexer": "ipython3",
   "version": "3.5.0"
  }
 },
 "nbformat": 4,
 "nbformat_minor": 2
}
